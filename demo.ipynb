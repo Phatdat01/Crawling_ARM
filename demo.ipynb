{
 "cells": [
  {
   "cell_type": "code",
   "execution_count": 96,
   "metadata": {},
   "outputs": [],
   "source": [
    "import json\n",
    "from pathlib import Path\n",
    "from crawling import load_chrome, open_web, login, wait_element"
   ]
  },
  {
   "cell_type": "code",
   "execution_count": 97,
   "metadata": {},
   "outputs": [],
   "source": [
    "import json\n",
    "import time\n",
    "from typing import List, Tuple\n",
    "\n",
    "from selenium import webdriver\n",
    "from selenium.webdriver.common.by import By\n",
    "from selenium.webdriver.common.keys import Keys\n",
    "from selenium.webdriver.chrome.service import Service\n",
    "from selenium.webdriver.support.ui import WebDriverWait, Select\n",
    "from selenium.webdriver.remote.webdriver import WebDriver\n",
    "from selenium.webdriver.remote.webelement import WebElement\n",
    "from selenium.webdriver.support import expected_conditions as EC\n",
    "from selenium.webdriver.edge.service import Service as EdgeService\n",
    "from webdriver_manager.microsoft import EdgeChromiumDriverManager"
   ]
  },
  {
   "cell_type": "code",
   "execution_count": 203,
   "metadata": {},
   "outputs": [],
   "source": [
    "DOWNLOAD_PATH = str(Path.home() / \"Downloads\")\n",
    "fi = open(\"credentials.json\",encoding=\"UTF-8\")\n",
    "cre = json.load(fi)"
   ]
  },
  {
   "cell_type": "code",
   "execution_count": 204,
   "metadata": {},
   "outputs": [],
   "source": [
    "driver = open_web(cre=cre)\n",
    "driver.maximize_window()"
   ]
  },
  {
   "cell_type": "code",
   "execution_count": 205,
   "metadata": {},
   "outputs": [],
   "source": [
    "def login(driver: WebDriver, cre: json):\n",
    "    name = wait_element(driver=driver, timeout=10,key=\"username\",by=\"name\")\n",
    "    name.send_keys(cre[\"name\"])\n",
    "    pw= driver.find_element(By.NAME, \"password\")\n",
    "    pw.send_keys(cre[\"pw\"])\n",
    "    login = wait_element(driver=driver, timeout=10,key=\"ui.fluid.large.submit.button\",by=\"class\")\n",
    "    login.click()"
   ]
  },
  {
   "cell_type": "code",
   "execution_count": 206,
   "metadata": {},
   "outputs": [],
   "source": [
    "login(driver=driver, cre=cre)"
   ]
  },
  {
   "cell_type": "code",
   "execution_count": 207,
   "metadata": {},
   "outputs": [],
   "source": [
    "time.sleep(5)\n",
    "arm = driver.find_elements(By.CLASS_NAME, value=\"h-f.ng-binding.ng-scope\")[1]\n",
    "arm.click()"
   ]
  },
  {
   "cell_type": "code",
   "execution_count": 208,
   "metadata": {},
   "outputs": [],
   "source": [
    "search_option = driver.find_element(By.ID, value=\"8543\")"
   ]
  },
  {
   "cell_type": "code",
   "execution_count": 209,
   "metadata": {},
   "outputs": [],
   "source": [
    "search_option.click()"
   ]
  },
  {
   "cell_type": "code",
   "execution_count": 210,
   "metadata": {},
   "outputs": [],
   "source": [
    "time.sleep(5)\n",
    "search_button = driver.find_element(By.CLASS_NAME, value=\"submit.ui.button.green.text-white.m-r-7\")\n",
    "search_button.click()"
   ]
  },
  {
   "cell_type": "code",
   "execution_count": 211,
   "metadata": {},
   "outputs": [
    {
     "data": {
      "text/plain": [
       "<selenium.webdriver.remote.webelement.WebElement (session=\"77b3795551045aed6caae3e8dbc99cba\", element=\"f.BEAF48BD7F4368A91DF3B7E9E1C4758E.d.7988FE356B43CF80F08D65148B7A4DFC.e.166\")>"
      ]
     },
     "execution_count": 211,
     "metadata": {},
     "output_type": "execute_result"
    }
   ],
   "source": [
    "re_from = driver.find_element(By.NAME, value=\"NgayNhanTu\")\n",
    "re_from"
   ]
  },
  {
   "cell_type": "code",
   "execution_count": 212,
   "metadata": {},
   "outputs": [],
   "source": [
    "re_from.clear()\n",
    "re_from.send_keys(cre['re_from'])"
   ]
  },
  {
   "cell_type": "code",
   "execution_count": 213,
   "metadata": {},
   "outputs": [],
   "source": [
    "re_to = driver.find_element(By.NAME, value=\"NgayNhanDen\")\n",
    "re_to.clear()\n",
    "re_to.send_keys(cre['re_to'])"
   ]
  },
  {
   "cell_type": "code",
   "execution_count": 214,
   "metadata": {},
   "outputs": [],
   "source": [
    "result_from = driver.find_element(By.NAME, value=\"NgayHenTraTu\")\n",
    "result_from.clear()\n",
    "result_from.send_keys(cre['result_from'])\n",
    "result_to = driver.find_element(By.NAME, value=\"NgayHenTraDen\")\n",
    "result_to.clear()\n",
    "result_to.send_keys(cre['result_to'])"
   ]
  },
  {
   "cell_type": "code",
   "execution_count": 215,
   "metadata": {},
   "outputs": [
    {
     "data": {
      "text/plain": [
       "<selenium.webdriver.remote.webelement.WebElement (session=\"77b3795551045aed6caae3e8dbc99cba\", element=\"f.BEAF48BD7F4368A91DF3B7E9E1C4758E.d.7988FE356B43CF80F08D65148B7A4DFC.e.215\")>"
      ]
     },
     "execution_count": 215,
     "metadata": {},
     "output_type": "execute_result"
    }
   ],
   "source": [
    "search = driver.find_element(By.ID, value=\"tkDiaChiXaThuaDat\")\n",
    "search"
   ]
  },
  {
   "cell_type": "code",
   "execution_count": 216,
   "metadata": {},
   "outputs": [
    {
     "data": {
      "text/plain": [
       "<selenium.webdriver.remote.webelement.WebElement (session=\"77b3795551045aed6caae3e8dbc99cba\", element=\"f.BEAF48BD7F4368A91DF3B7E9E1C4758E.d.7988FE356B43CF80F08D65148B7A4DFC.e.196\")>"
      ]
     },
     "execution_count": 216,
     "metadata": {},
     "output_type": "execute_result"
    }
   ],
   "source": [
    "input = search.find_element(By.CLASS_NAME, value=\"search\")\n",
    "input"
   ]
  },
  {
   "cell_type": "code",
   "execution_count": 217,
   "metadata": {},
   "outputs": [],
   "source": [
    "input.clear()\n",
    "input.send_keys(cre['ward'])"
   ]
  },
  {
   "cell_type": "code",
   "execution_count": 218,
   "metadata": {},
   "outputs": [],
   "source": [
    "search_bt = driver.find_element(By.ID, value=\"btnTimKiem\")\n",
    "search_bt.click()"
   ]
  },
  {
   "cell_type": "code",
   "execution_count": 219,
   "metadata": {},
   "outputs": [
    {
     "data": {
      "text/plain": [
       "<selenium.webdriver.remote.webelement.WebElement (session=\"77b3795551045aed6caae3e8dbc99cba\", element=\"f.BEAF48BD7F4368A91DF3B7E9E1C4758E.d.7988FE356B43CF80F08D65148B7A4DFC.e.200\")>"
      ]
     },
     "execution_count": 219,
     "metadata": {},
     "output_type": "execute_result"
    }
   ],
   "source": [
    "data = driver.find_element(By.ID, value=\"danhSachHoSo\")\n",
    "data"
   ]
  },
  {
   "cell_type": "code",
   "execution_count": 220,
   "metadata": {},
   "outputs": [
    {
     "data": {
      "text/plain": [
       "[<selenium.webdriver.remote.webelement.WebElement (session=\"77b3795551045aed6caae3e8dbc99cba\", element=\"f.BEAF48BD7F4368A91DF3B7E9E1C4758E.d.7988FE356B43CF80F08D65148B7A4DFC.e.241\")>,\n",
       " <selenium.webdriver.remote.webelement.WebElement (session=\"77b3795551045aed6caae3e8dbc99cba\", element=\"f.BEAF48BD7F4368A91DF3B7E9E1C4758E.d.7988FE356B43CF80F08D65148B7A4DFC.e.242\")>,\n",
       " <selenium.webdriver.remote.webelement.WebElement (session=\"77b3795551045aed6caae3e8dbc99cba\", element=\"f.BEAF48BD7F4368A91DF3B7E9E1C4758E.d.7988FE356B43CF80F08D65148B7A4DFC.e.243\")>,\n",
       " <selenium.webdriver.remote.webelement.WebElement (session=\"77b3795551045aed6caae3e8dbc99cba\", element=\"f.BEAF48BD7F4368A91DF3B7E9E1C4758E.d.7988FE356B43CF80F08D65148B7A4DFC.e.244\")>,\n",
       " <selenium.webdriver.remote.webelement.WebElement (session=\"77b3795551045aed6caae3e8dbc99cba\", element=\"f.BEAF48BD7F4368A91DF3B7E9E1C4758E.d.7988FE356B43CF80F08D65148B7A4DFC.e.245\")>,\n",
       " <selenium.webdriver.remote.webelement.WebElement (session=\"77b3795551045aed6caae3e8dbc99cba\", element=\"f.BEAF48BD7F4368A91DF3B7E9E1C4758E.d.7988FE356B43CF80F08D65148B7A4DFC.e.246\")>,\n",
       " <selenium.webdriver.remote.webelement.WebElement (session=\"77b3795551045aed6caae3e8dbc99cba\", element=\"f.BEAF48BD7F4368A91DF3B7E9E1C4758E.d.7988FE356B43CF80F08D65148B7A4DFC.e.247\")>,\n",
       " <selenium.webdriver.remote.webelement.WebElement (session=\"77b3795551045aed6caae3e8dbc99cba\", element=\"f.BEAF48BD7F4368A91DF3B7E9E1C4758E.d.7988FE356B43CF80F08D65148B7A4DFC.e.248\")>,\n",
       " <selenium.webdriver.remote.webelement.WebElement (session=\"77b3795551045aed6caae3e8dbc99cba\", element=\"f.BEAF48BD7F4368A91DF3B7E9E1C4758E.d.7988FE356B43CF80F08D65148B7A4DFC.e.249\")>,\n",
       " <selenium.webdriver.remote.webelement.WebElement (session=\"77b3795551045aed6caae3e8dbc99cba\", element=\"f.BEAF48BD7F4368A91DF3B7E9E1C4758E.d.7988FE356B43CF80F08D65148B7A4DFC.e.250\")>,\n",
       " <selenium.webdriver.remote.webelement.WebElement (session=\"77b3795551045aed6caae3e8dbc99cba\", element=\"f.BEAF48BD7F4368A91DF3B7E9E1C4758E.d.7988FE356B43CF80F08D65148B7A4DFC.e.251\")>]"
      ]
     },
     "execution_count": 220,
     "metadata": {},
     "output_type": "execute_result"
    }
   ],
   "source": [
    "time.sleep(5)\n",
    "row = data.find_elements(By.TAG_NAME, value=\"tr\")\n",
    "row"
   ]
  },
  {
   "cell_type": "code",
   "execution_count": 221,
   "metadata": {},
   "outputs": [],
   "source": [
    "ob = row[1]\n",
    "lst = [\"cn\",\"chuyển nhượng\"]\n",
    "txt = ob.find_elements(By.CLASS_NAME, value= \"ng-binding\")[5].text"
   ]
  },
  {
   "cell_type": "code",
   "execution_count": 222,
   "metadata": {},
   "outputs": [],
   "source": [
    "time(3)\n",
    "for item in lst:\n",
    "    if item in txt.lower():\n",
    "        ob.click()"
   ]
  },
  {
   "cell_type": "code",
   "execution_count": 224,
   "metadata": {},
   "outputs": [],
   "source": [
    "info = driver.find_element(By.CLASS_NAME, value=\"item.XTT\")\n",
    "info.click()"
   ]
  },
  {
   "cell_type": "code",
   "execution_count": 225,
   "metadata": {},
   "outputs": [],
   "source": [
    "container_element = driver.find_elements(By.XPATH, value=\"//*[@ng-repeat='item in $p.objThanhPhanHoSoKemTheos']\")"
   ]
  },
  {
   "cell_type": "code",
   "execution_count": 226,
   "metadata": {},
   "outputs": [
    {
     "data": {
      "text/plain": [
       "<selenium.webdriver.remote.webelement.WebElement (session=\"77b3795551045aed6caae3e8dbc99cba\", element=\"f.BEAF48BD7F4368A91DF3B7E9E1C4758E.d.7988FE356B43CF80F08D65148B7A4DFC.e.318\")>"
      ]
     },
     "execution_count": 226,
     "metadata": {},
     "output_type": "execute_result"
    }
   ],
   "source": [
    "container_element[2]"
   ]
  },
  {
   "cell_type": "code",
   "execution_count": 227,
   "metadata": {},
   "outputs": [],
   "source": [
    "GCN = container_element[2].find_element(By.CLASS_NAME, value=\"text-wrap.ng-binding\").text\n",
    "if \t\"Giấy chứng nhận\" in GCN:\n",
    "    fi = container_element[2].find_element(By.TAG_NAME, value=\"a\")\n",
    "    fi.click()"
   ]
  },
  {
   "cell_type": "code",
   "execution_count": 228,
   "metadata": {},
   "outputs": [],
   "source": [
    "driver.switch_to.window(driver.window_handles[1])\n",
    "save = wait_element(driver=driver,timeout=20,key=\"body\",by=\"tag\")\n",
    "save.send_keys(Keys.CONTROL + 's')"
   ]
  },
  {
   "cell_type": "code",
   "execution_count": 229,
   "metadata": {},
   "outputs": [],
   "source": [
    "driver.execute_script(\"window.close();\")\n",
    "driver.switch_to.window(driver.window_handles[0])"
   ]
  },
  {
   "cell_type": "code",
   "execution_count": 230,
   "metadata": {},
   "outputs": [],
   "source": [
    "container_element = driver.find_elements(By.XPATH, value=\"//*[@ng-repeat='item in $p.objThanhPhanHoSoKemTheos']\")\n",
    "fee = container_element[5].find_element(By.CLASS_NAME, value=\"text-wrap.ng-binding\").text\n",
    "if \t\"Tờ khai lệ phí trước bạ nhà, đất\" in fee:\n",
    "    fee = container_element[5].find_element(By.TAG_NAME, value=\"a\")\n",
    "    fee.click()"
   ]
  },
  {
   "cell_type": "code",
   "execution_count": 231,
   "metadata": {},
   "outputs": [],
   "source": [
    "driver.switch_to.window(driver.window_handles[1])\n",
    "save = wait_element(driver=driver,timeout=20,key=\"body\",by=\"tag\")\n",
    "save.send_keys(Keys.CONTROL + 's')"
   ]
  },
  {
   "cell_type": "code",
   "execution_count": 232,
   "metadata": {},
   "outputs": [],
   "source": [
    "driver.execute_script(\"window.close();\")\n",
    "driver.switch_to.window(driver.window_handles[0])"
   ]
  },
  {
   "cell_type": "code",
   "execution_count": 233,
   "metadata": {},
   "outputs": [],
   "source": [
    "processing = driver.find_element(By.XPATH, value=\"//*[@ng-click='$p.quaTrinhXuLyInit()']\")\n",
    "processing.click()"
   ]
  },
  {
   "cell_type": "code",
   "execution_count": 234,
   "metadata": {},
   "outputs": [
    {
     "data": {
      "text/plain": [
       "20"
      ]
     },
     "execution_count": 234,
     "metadata": {},
     "output_type": "execute_result"
    }
   ],
   "source": [
    "rows = driver.find_elements(By.XPATH, value=\"//*[@ng-repeat-start='item in $data.items']\")\n",
    "len(rows)"
   ]
  },
  {
   "cell_type": "code",
   "execution_count": 235,
   "metadata": {},
   "outputs": [],
   "source": [
    "row = rows[10]"
   ]
  },
  {
   "cell_type": "code",
   "execution_count": 240,
   "metadata": {},
   "outputs": [
    {
     "data": {
      "text/plain": [
       "'Chi Cục Thuế huyện Bến Lức'"
      ]
     },
     "execution_count": 240,
     "metadata": {},
     "output_type": "execute_result"
    }
   ],
   "source": [
    "txt = row.find_elements(By.TAG_NAME, value=\"td\")[2].text\n",
    "txt"
   ]
  },
  {
   "cell_type": "code",
   "execution_count": 245,
   "metadata": {},
   "outputs": [
    {
     "name": "stdout",
     "output_type": "stream",
     "text": [
      "[<selenium.webdriver.remote.webelement.WebElement (session=\"77b3795551045aed6caae3e8dbc99cba\", element=\"f.BEAF48BD7F4368A91DF3B7E9E1C4758E.d.7988FE356B43CF80F08D65148B7A4DFC.e.485\")>, <selenium.webdriver.remote.webelement.WebElement (session=\"77b3795551045aed6caae3e8dbc99cba\", element=\"f.BEAF48BD7F4368A91DF3B7E9E1C4758E.d.7988FE356B43CF80F08D65148B7A4DFC.e.486\")>, <selenium.webdriver.remote.webelement.WebElement (session=\"77b3795551045aed6caae3e8dbc99cba\", element=\"f.BEAF48BD7F4368A91DF3B7E9E1C4758E.d.7988FE356B43CF80F08D65148B7A4DFC.e.325\")>, <selenium.webdriver.remote.webelement.WebElement (session=\"77b3795551045aed6caae3e8dbc99cba\", element=\"f.BEAF48BD7F4368A91DF3B7E9E1C4758E.d.7988FE356B43CF80F08D65148B7A4DFC.e.487\")>, <selenium.webdriver.remote.webelement.WebElement (session=\"77b3795551045aed6caae3e8dbc99cba\", element=\"f.BEAF48BD7F4368A91DF3B7E9E1C4758E.d.7988FE356B43CF80F08D65148B7A4DFC.e.488\")>, <selenium.webdriver.remote.webelement.WebElement (session=\"77b3795551045aed6caae3e8dbc99cba\", element=\"f.BEAF48BD7F4368A91DF3B7E9E1C4758E.d.7988FE356B43CF80F08D65148B7A4DFC.e.489\")>, <selenium.webdriver.remote.webelement.WebElement (session=\"77b3795551045aed6caae3e8dbc99cba\", element=\"f.BEAF48BD7F4368A91DF3B7E9E1C4758E.d.7988FE356B43CF80F08D65148B7A4DFC.e.388\")>, <selenium.webdriver.remote.webelement.WebElement (session=\"77b3795551045aed6caae3e8dbc99cba\", element=\"f.BEAF48BD7F4368A91DF3B7E9E1C4758E.d.7988FE356B43CF80F08D65148B7A4DFC.e.490\")>, <selenium.webdriver.remote.webelement.WebElement (session=\"77b3795551045aed6caae3e8dbc99cba\", element=\"f.BEAF48BD7F4368A91DF3B7E9E1C4758E.d.7988FE356B43CF80F08D65148B7A4DFC.e.491\")>, <selenium.webdriver.remote.webelement.WebElement (session=\"77b3795551045aed6caae3e8dbc99cba\", element=\"f.BEAF48BD7F4368A91DF3B7E9E1C4758E.d.7988FE356B43CF80F08D65148B7A4DFC.e.492\")>, <selenium.webdriver.remote.webelement.WebElement (session=\"77b3795551045aed6caae3e8dbc99cba\", element=\"f.BEAF48BD7F4368A91DF3B7E9E1C4758E.d.7988FE356B43CF80F08D65148B7A4DFC.e.493\")>, <selenium.webdriver.remote.webelement.WebElement (session=\"77b3795551045aed6caae3e8dbc99cba\", element=\"f.BEAF48BD7F4368A91DF3B7E9E1C4758E.d.7988FE356B43CF80F08D65148B7A4DFC.e.494\")>, <selenium.webdriver.remote.webelement.WebElement (session=\"77b3795551045aed6caae3e8dbc99cba\", element=\"f.BEAF48BD7F4368A91DF3B7E9E1C4758E.d.7988FE356B43CF80F08D65148B7A4DFC.e.495\")>, <selenium.webdriver.remote.webelement.WebElement (session=\"77b3795551045aed6caae3e8dbc99cba\", element=\"f.BEAF48BD7F4368A91DF3B7E9E1C4758E.d.7988FE356B43CF80F08D65148B7A4DFC.e.496\")>, <selenium.webdriver.remote.webelement.WebElement (session=\"77b3795551045aed6caae3e8dbc99cba\", element=\"f.BEAF48BD7F4368A91DF3B7E9E1C4758E.d.7988FE356B43CF80F08D65148B7A4DFC.e.497\")>, <selenium.webdriver.remote.webelement.WebElement (session=\"77b3795551045aed6caae3e8dbc99cba\", element=\"f.BEAF48BD7F4368A91DF3B7E9E1C4758E.d.7988FE356B43CF80F08D65148B7A4DFC.e.498\")>, <selenium.webdriver.remote.webelement.WebElement (session=\"77b3795551045aed6caae3e8dbc99cba\", element=\"f.BEAF48BD7F4368A91DF3B7E9E1C4758E.d.7988FE356B43CF80F08D65148B7A4DFC.e.499\")>, <selenium.webdriver.remote.webelement.WebElement (session=\"77b3795551045aed6caae3e8dbc99cba\", element=\"f.BEAF48BD7F4368A91DF3B7E9E1C4758E.d.7988FE356B43CF80F08D65148B7A4DFC.e.500\")>, <selenium.webdriver.remote.webelement.WebElement (session=\"77b3795551045aed6caae3e8dbc99cba\", element=\"f.BEAF48BD7F4368A91DF3B7E9E1C4758E.d.7988FE356B43CF80F08D65148B7A4DFC.e.501\")>, <selenium.webdriver.remote.webelement.WebElement (session=\"77b3795551045aed6caae3e8dbc99cba\", element=\"f.BEAF48BD7F4368A91DF3B7E9E1C4758E.d.7988FE356B43CF80F08D65148B7A4DFC.e.502\")>, <selenium.webdriver.remote.webelement.WebElement (session=\"77b3795551045aed6caae3e8dbc99cba\", element=\"f.BEAF48BD7F4368A91DF3B7E9E1C4758E.d.7988FE356B43CF80F08D65148B7A4DFC.e.503\")>, <selenium.webdriver.remote.webelement.WebElement (session=\"77b3795551045aed6caae3e8dbc99cba\", element=\"f.BEAF48BD7F4368A91DF3B7E9E1C4758E.d.7988FE356B43CF80F08D65148B7A4DFC.e.504\")>, <selenium.webdriver.remote.webelement.WebElement (session=\"77b3795551045aed6caae3e8dbc99cba\", element=\"f.BEAF48BD7F4368A91DF3B7E9E1C4758E.d.7988FE356B43CF80F08D65148B7A4DFC.e.505\")>, <selenium.webdriver.remote.webelement.WebElement (session=\"77b3795551045aed6caae3e8dbc99cba\", element=\"f.BEAF48BD7F4368A91DF3B7E9E1C4758E.d.7988FE356B43CF80F08D65148B7A4DFC.e.506\")>]\n"
     ]
    }
   ],
   "source": [
    "if \"Bến Lức\" in txt:\n",
    "    files = row.find_elements(By.CLASS_NAME, value=\"m-n.pointer.large.red.file.outline.pdf.icon\")\n",
    "    files[0].click()\n",
    "    for fi in files:\n",
    "        fi.click()\n",
    "        time.sleep(3)\n",
    "        driver.switch_to.window(driver.window_handles[1])\n",
    "        time.sleep(3)\n",
    "        save = wait_element(driver=driver,timeout=20,key=\"body\",by=\"tag\")\n",
    "        save.send_keys(Keys.CONTROL + 's')\n",
    "        time.sleep(5)\n",
    "        driver.execute_script(\"window.close();\")\n",
    "        driver.switch_to.window(driver.window_handles[0])"
   ]
  }
 ],
 "metadata": {
  "kernelspec": {
   "display_name": ".venv",
   "language": "python",
   "name": "python3"
  },
  "language_info": {
   "codemirror_mode": {
    "name": "ipython",
    "version": 3
   },
   "file_extension": ".py",
   "mimetype": "text/x-python",
   "name": "python",
   "nbconvert_exporter": "python",
   "pygments_lexer": "ipython3",
   "version": "3.11.0"
  }
 },
 "nbformat": 4,
 "nbformat_minor": 2
}
