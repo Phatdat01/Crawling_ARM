{
 "cells": [
  {
   "cell_type": "code",
   "execution_count": 203,
   "metadata": {},
   "outputs": [],
   "source": [
    "import json\n",
    "from pathlib import Path\n",
    "from crawling import load_chrome, open_web, login, wait_element"
   ]
  },
  {
   "cell_type": "code",
   "execution_count": 204,
   "metadata": {},
   "outputs": [],
   "source": [
    "import json\n",
    "import time\n",
    "from typing import List, Tuple\n",
    "\n",
    "from selenium import webdriver\n",
    "from selenium.webdriver.common.by import By\n",
    "from selenium.webdriver.common.keys import Keys\n",
    "from selenium.webdriver.chrome.service import Service\n",
    "from selenium.webdriver.support.ui import WebDriverWait, Select\n",
    "from selenium.webdriver.remote.webdriver import WebDriver\n",
    "from selenium.webdriver.remote.webelement import WebElement\n",
    "from selenium.webdriver.support import expected_conditions as EC\n",
    "from selenium.webdriver.edge.service import Service as EdgeService\n",
    "from webdriver_manager.microsoft import EdgeChromiumDriverManager"
   ]
  },
  {
   "cell_type": "code",
   "execution_count": 205,
   "metadata": {},
   "outputs": [],
   "source": [
    "DOWNLOAD_PATH = str(Path.home() / \"Downloads\")\n",
    "fi = open(\"credentials.json\",encoding=\"UTF-8\")\n",
    "cre = json.load(fi)"
   ]
  },
  {
   "cell_type": "code",
   "execution_count": 206,
   "metadata": {},
   "outputs": [],
   "source": [
    "driver = open_web(cre=cre)\n",
    "driver.maximize_window()"
   ]
  },
  {
   "cell_type": "code",
   "execution_count": 207,
   "metadata": {},
   "outputs": [],
   "source": [
    "def login(driver: WebDriver, cre: json):\n",
    "    name = wait_element(driver=driver, timeout=10,key=\"username\",by=\"name\")\n",
    "    name.send_keys(cre[\"name\"])\n",
    "    pw= driver.find_element(By.NAME, \"password\")\n",
    "    pw.send_keys(cre[\"pw\"])\n",
    "    login = wait_element(driver=driver, timeout=10,key=\"ui.fluid.large.submit.button\",by=\"class\")\n",
    "    login.click()"
   ]
  },
  {
   "cell_type": "code",
   "execution_count": 208,
   "metadata": {},
   "outputs": [],
   "source": [
    "login(driver=driver, cre=cre)"
   ]
  },
  {
   "cell_type": "code",
   "execution_count": 209,
   "metadata": {},
   "outputs": [],
   "source": [
    "time.sleep(5)\n",
    "arm = driver.find_elements(By.CLASS_NAME, value=\"h-f.ng-binding.ng-scope\")[1]\n",
    "arm.click()"
   ]
  },
  {
   "cell_type": "code",
   "execution_count": 210,
   "metadata": {},
   "outputs": [],
   "source": [
    "search_option = driver.find_element(By.ID, value=\"8543\")"
   ]
  },
  {
   "cell_type": "code",
   "execution_count": 211,
   "metadata": {},
   "outputs": [],
   "source": [
    "search_option.click()"
   ]
  },
  {
   "cell_type": "code",
   "execution_count": 212,
   "metadata": {},
   "outputs": [
    {
     "ename": "NoSuchElementException",
     "evalue": "Message: no such element: Unable to locate element: {\"method\":\"css selector\",\"selector\":\".submit.ui.button.green.text-white.m-r-7\"}\n  (Session info: chrome=125.0.6422.113); For documentation on this error, please visit: https://www.selenium.dev/documentation/webdriver/troubleshooting/errors#no-such-element-exception\nStacktrace:\n\tGetHandleVerifier [0x00007FF60A191F22+60322]\n\t(No symbol) [0x00007FF60A10CE99]\n\t(No symbol) [0x00007FF609FC7EBA]\n\t(No symbol) [0x00007FF60A017676]\n\t(No symbol) [0x00007FF60A01773C]\n\t(No symbol) [0x00007FF60A05E967]\n\t(No symbol) [0x00007FF60A03C25F]\n\t(No symbol) [0x00007FF60A05BC80]\n\t(No symbol) [0x00007FF60A03BFC3]\n\t(No symbol) [0x00007FF60A009617]\n\t(No symbol) [0x00007FF60A00A211]\n\tGetHandleVerifier [0x00007FF60A4A946D+3301613]\n\tGetHandleVerifier [0x00007FF60A4F3693+3605267]\n\tGetHandleVerifier [0x00007FF60A4E9410+3563664]\n\tGetHandleVerifier [0x00007FF60A2442F6+790390]\n\t(No symbol) [0x00007FF60A1174DF]\n\t(No symbol) [0x00007FF60A1133D4]\n\t(No symbol) [0x00007FF60A113562]\n\t(No symbol) [0x00007FF60A102F6F]\n\tBaseThreadInitThunk [0x00007FFA60517344+20]\n\tRtlUserThreadStart [0x00007FFA60A426B1+33]\n",
     "output_type": "error",
     "traceback": [
      "\u001b[1;31m---------------------------------------------------------------------------\u001b[0m",
      "\u001b[1;31mNoSuchElementException\u001b[0m                    Traceback (most recent call last)",
      "Cell \u001b[1;32mIn[212], line 1\u001b[0m\n\u001b[1;32m----> 1\u001b[0m search_button \u001b[38;5;241m=\u001b[39m \u001b[43mdriver\u001b[49m\u001b[38;5;241;43m.\u001b[39;49m\u001b[43mfind_element\u001b[49m\u001b[43m(\u001b[49m\u001b[43mBy\u001b[49m\u001b[38;5;241;43m.\u001b[39;49m\u001b[43mCLASS_NAME\u001b[49m\u001b[43m,\u001b[49m\u001b[43m \u001b[49m\u001b[43mvalue\u001b[49m\u001b[38;5;241;43m=\u001b[39;49m\u001b[38;5;124;43m\"\u001b[39;49m\u001b[38;5;124;43msubmit.ui.button.green.text-white.m-r-7\u001b[39;49m\u001b[38;5;124;43m\"\u001b[39;49m\u001b[43m)\u001b[49m\n\u001b[0;32m      2\u001b[0m search_button\u001b[38;5;241m.\u001b[39mclick()\n",
      "File \u001b[1;32md:\\code\\Crawling_ARM\\.venv\\Lib\\site-packages\\selenium\\webdriver\\remote\\webdriver.py:741\u001b[0m, in \u001b[0;36mWebDriver.find_element\u001b[1;34m(self, by, value)\u001b[0m\n\u001b[0;32m    738\u001b[0m     by \u001b[38;5;241m=\u001b[39m By\u001b[38;5;241m.\u001b[39mCSS_SELECTOR\n\u001b[0;32m    739\u001b[0m     value \u001b[38;5;241m=\u001b[39m \u001b[38;5;124mf\u001b[39m\u001b[38;5;124m'\u001b[39m\u001b[38;5;124m[name=\u001b[39m\u001b[38;5;124m\"\u001b[39m\u001b[38;5;132;01m{\u001b[39;00mvalue\u001b[38;5;132;01m}\u001b[39;00m\u001b[38;5;124m\"\u001b[39m\u001b[38;5;124m]\u001b[39m\u001b[38;5;124m'\u001b[39m\n\u001b[1;32m--> 741\u001b[0m \u001b[38;5;28;01mreturn\u001b[39;00m \u001b[38;5;28;43mself\u001b[39;49m\u001b[38;5;241;43m.\u001b[39;49m\u001b[43mexecute\u001b[49m\u001b[43m(\u001b[49m\u001b[43mCommand\u001b[49m\u001b[38;5;241;43m.\u001b[39;49m\u001b[43mFIND_ELEMENT\u001b[49m\u001b[43m,\u001b[49m\u001b[43m \u001b[49m\u001b[43m{\u001b[49m\u001b[38;5;124;43m\"\u001b[39;49m\u001b[38;5;124;43musing\u001b[39;49m\u001b[38;5;124;43m\"\u001b[39;49m\u001b[43m:\u001b[49m\u001b[43m \u001b[49m\u001b[43mby\u001b[49m\u001b[43m,\u001b[49m\u001b[43m \u001b[49m\u001b[38;5;124;43m\"\u001b[39;49m\u001b[38;5;124;43mvalue\u001b[39;49m\u001b[38;5;124;43m\"\u001b[39;49m\u001b[43m:\u001b[49m\u001b[43m \u001b[49m\u001b[43mvalue\u001b[49m\u001b[43m}\u001b[49m\u001b[43m)\u001b[49m[\u001b[38;5;124m\"\u001b[39m\u001b[38;5;124mvalue\u001b[39m\u001b[38;5;124m\"\u001b[39m]\n",
      "File \u001b[1;32md:\\code\\Crawling_ARM\\.venv\\Lib\\site-packages\\selenium\\webdriver\\remote\\webdriver.py:347\u001b[0m, in \u001b[0;36mWebDriver.execute\u001b[1;34m(self, driver_command, params)\u001b[0m\n\u001b[0;32m    345\u001b[0m response \u001b[38;5;241m=\u001b[39m \u001b[38;5;28mself\u001b[39m\u001b[38;5;241m.\u001b[39mcommand_executor\u001b[38;5;241m.\u001b[39mexecute(driver_command, params)\n\u001b[0;32m    346\u001b[0m \u001b[38;5;28;01mif\u001b[39;00m response:\n\u001b[1;32m--> 347\u001b[0m     \u001b[38;5;28;43mself\u001b[39;49m\u001b[38;5;241;43m.\u001b[39;49m\u001b[43merror_handler\u001b[49m\u001b[38;5;241;43m.\u001b[39;49m\u001b[43mcheck_response\u001b[49m\u001b[43m(\u001b[49m\u001b[43mresponse\u001b[49m\u001b[43m)\u001b[49m\n\u001b[0;32m    348\u001b[0m     response[\u001b[38;5;124m\"\u001b[39m\u001b[38;5;124mvalue\u001b[39m\u001b[38;5;124m\"\u001b[39m] \u001b[38;5;241m=\u001b[39m \u001b[38;5;28mself\u001b[39m\u001b[38;5;241m.\u001b[39m_unwrap_value(response\u001b[38;5;241m.\u001b[39mget(\u001b[38;5;124m\"\u001b[39m\u001b[38;5;124mvalue\u001b[39m\u001b[38;5;124m\"\u001b[39m, \u001b[38;5;28;01mNone\u001b[39;00m))\n\u001b[0;32m    349\u001b[0m     \u001b[38;5;28;01mreturn\u001b[39;00m response\n",
      "File \u001b[1;32md:\\code\\Crawling_ARM\\.venv\\Lib\\site-packages\\selenium\\webdriver\\remote\\errorhandler.py:229\u001b[0m, in \u001b[0;36mErrorHandler.check_response\u001b[1;34m(self, response)\u001b[0m\n\u001b[0;32m    227\u001b[0m         alert_text \u001b[38;5;241m=\u001b[39m value[\u001b[38;5;124m\"\u001b[39m\u001b[38;5;124malert\u001b[39m\u001b[38;5;124m\"\u001b[39m]\u001b[38;5;241m.\u001b[39mget(\u001b[38;5;124m\"\u001b[39m\u001b[38;5;124mtext\u001b[39m\u001b[38;5;124m\"\u001b[39m)\n\u001b[0;32m    228\u001b[0m     \u001b[38;5;28;01mraise\u001b[39;00m exception_class(message, screen, stacktrace, alert_text)  \u001b[38;5;66;03m# type: ignore[call-arg]  # mypy is not smart enough here\u001b[39;00m\n\u001b[1;32m--> 229\u001b[0m \u001b[38;5;28;01mraise\u001b[39;00m exception_class(message, screen, stacktrace)\n",
      "\u001b[1;31mNoSuchElementException\u001b[0m: Message: no such element: Unable to locate element: {\"method\":\"css selector\",\"selector\":\".submit.ui.button.green.text-white.m-r-7\"}\n  (Session info: chrome=125.0.6422.113); For documentation on this error, please visit: https://www.selenium.dev/documentation/webdriver/troubleshooting/errors#no-such-element-exception\nStacktrace:\n\tGetHandleVerifier [0x00007FF60A191F22+60322]\n\t(No symbol) [0x00007FF60A10CE99]\n\t(No symbol) [0x00007FF609FC7EBA]\n\t(No symbol) [0x00007FF60A017676]\n\t(No symbol) [0x00007FF60A01773C]\n\t(No symbol) [0x00007FF60A05E967]\n\t(No symbol) [0x00007FF60A03C25F]\n\t(No symbol) [0x00007FF60A05BC80]\n\t(No symbol) [0x00007FF60A03BFC3]\n\t(No symbol) [0x00007FF60A009617]\n\t(No symbol) [0x00007FF60A00A211]\n\tGetHandleVerifier [0x00007FF60A4A946D+3301613]\n\tGetHandleVerifier [0x00007FF60A4F3693+3605267]\n\tGetHandleVerifier [0x00007FF60A4E9410+3563664]\n\tGetHandleVerifier [0x00007FF60A2442F6+790390]\n\t(No symbol) [0x00007FF60A1174DF]\n\t(No symbol) [0x00007FF60A1133D4]\n\t(No symbol) [0x00007FF60A113562]\n\t(No symbol) [0x00007FF60A102F6F]\n\tBaseThreadInitThunk [0x00007FFA60517344+20]\n\tRtlUserThreadStart [0x00007FFA60A426B1+33]\n"
     ]
    }
   ],
   "source": [
    "time.sleep(2)\n",
    "search_button = driver.find_element(By.CLASS_NAME, value=\"submit.ui.button.green.text-white.m-r-7\")\n",
    "search_button.click()"
   ]
  },
  {
   "cell_type": "code",
   "execution_count": null,
   "metadata": {},
   "outputs": [
    {
     "data": {
      "text/plain": [
       "<selenium.webdriver.remote.webelement.WebElement (session=\"0ae05653ab275033dc5f639243bf2e09\", element=\"f.72D27BA379EAAC204E10532F1F19D4A9.d.F51715F63984327BA7D8A15BE7C1D717.e.174\")>"
      ]
     },
     "execution_count": 191,
     "metadata": {},
     "output_type": "execute_result"
    }
   ],
   "source": [
    "re_from = driver.find_element(By.NAME, value=\"NgayNhanTu\")\n",
    "re_from"
   ]
  },
  {
   "cell_type": "code",
   "execution_count": null,
   "metadata": {},
   "outputs": [],
   "source": [
    "re_from.clear()\n",
    "re_from.send_keys(cre['re_from'])"
   ]
  },
  {
   "cell_type": "code",
   "execution_count": null,
   "metadata": {},
   "outputs": [],
   "source": [
    "re_to = driver.find_element(By.NAME, value=\"NgayNhanDen\")\n",
    "re_to.clear()\n",
    "re_to.send_keys(cre['re_to'])"
   ]
  },
  {
   "cell_type": "code",
   "execution_count": null,
   "metadata": {},
   "outputs": [],
   "source": [
    "result_from = driver.find_element(By.NAME, value=\"NgayHenTraTu\")\n",
    "result_from.clear()\n",
    "result_from.send_keys(cre['result_from'])\n",
    "result_to = driver.find_element(By.NAME, value=\"NgayHenTraDen\")\n",
    "result_to.clear()\n",
    "result_to.send_keys(cre['result_to'])"
   ]
  },
  {
   "cell_type": "code",
   "execution_count": null,
   "metadata": {},
   "outputs": [
    {
     "data": {
      "text/plain": [
       "<selenium.webdriver.remote.webelement.WebElement (session=\"0ae05653ab275033dc5f639243bf2e09\", element=\"f.72D27BA379EAAC204E10532F1F19D4A9.d.F51715F63984327BA7D8A15BE7C1D717.e.212\")>"
      ]
     },
     "execution_count": 195,
     "metadata": {},
     "output_type": "execute_result"
    }
   ],
   "source": [
    "search = driver.find_element(By.ID, value=\"tkDiaChiXaThuaDat\")\n",
    "search"
   ]
  },
  {
   "cell_type": "code",
   "execution_count": null,
   "metadata": {},
   "outputs": [
    {
     "data": {
      "text/plain": [
       "<selenium.webdriver.remote.webelement.WebElement (session=\"0ae05653ab275033dc5f639243bf2e09\", element=\"f.72D27BA379EAAC204E10532F1F19D4A9.d.F51715F63984327BA7D8A15BE7C1D717.e.204\")>"
      ]
     },
     "execution_count": 196,
     "metadata": {},
     "output_type": "execute_result"
    }
   ],
   "source": [
    "input = search.find_element(By.CLASS_NAME, value=\"search\")\n",
    "input"
   ]
  },
  {
   "cell_type": "code",
   "execution_count": null,
   "metadata": {},
   "outputs": [],
   "source": [
    "input.clear()\n",
    "input.send_keys(cre['ward'])"
   ]
  },
  {
   "cell_type": "code",
   "execution_count": null,
   "metadata": {},
   "outputs": [],
   "source": [
    "search_bt = driver.find_element(By.ID, value=\"btnTimKiem\")\n",
    "search_bt.click()"
   ]
  },
  {
   "cell_type": "code",
   "execution_count": null,
   "metadata": {},
   "outputs": [
    {
     "data": {
      "text/plain": [
       "<selenium.webdriver.remote.webelement.WebElement (session=\"0ae05653ab275033dc5f639243bf2e09\", element=\"f.72D27BA379EAAC204E10532F1F19D4A9.d.F51715F63984327BA7D8A15BE7C1D717.e.216\")>"
      ]
     },
     "execution_count": 199,
     "metadata": {},
     "output_type": "execute_result"
    }
   ],
   "source": [
    "data = driver.find_element(By.ID, value=\"danhSachHoSo\")\n",
    "data"
   ]
  },
  {
   "cell_type": "code",
   "execution_count": null,
   "metadata": {},
   "outputs": [
    {
     "data": {
      "text/plain": [
       "[<selenium.webdriver.remote.webelement.WebElement (session=\"0ae05653ab275033dc5f639243bf2e09\", element=\"f.72D27BA379EAAC204E10532F1F19D4A9.d.F51715F63984327BA7D8A15BE7C1D717.e.217\")>,\n",
       " <selenium.webdriver.remote.webelement.WebElement (session=\"0ae05653ab275033dc5f639243bf2e09\", element=\"f.72D27BA379EAAC204E10532F1F19D4A9.d.F51715F63984327BA7D8A15BE7C1D717.e.250\")>,\n",
       " <selenium.webdriver.remote.webelement.WebElement (session=\"0ae05653ab275033dc5f639243bf2e09\", element=\"f.72D27BA379EAAC204E10532F1F19D4A9.d.F51715F63984327BA7D8A15BE7C1D717.e.251\")>,\n",
       " <selenium.webdriver.remote.webelement.WebElement (session=\"0ae05653ab275033dc5f639243bf2e09\", element=\"f.72D27BA379EAAC204E10532F1F19D4A9.d.F51715F63984327BA7D8A15BE7C1D717.e.252\")>,\n",
       " <selenium.webdriver.remote.webelement.WebElement (session=\"0ae05653ab275033dc5f639243bf2e09\", element=\"f.72D27BA379EAAC204E10532F1F19D4A9.d.F51715F63984327BA7D8A15BE7C1D717.e.253\")>,\n",
       " <selenium.webdriver.remote.webelement.WebElement (session=\"0ae05653ab275033dc5f639243bf2e09\", element=\"f.72D27BA379EAAC204E10532F1F19D4A9.d.F51715F63984327BA7D8A15BE7C1D717.e.254\")>,\n",
       " <selenium.webdriver.remote.webelement.WebElement (session=\"0ae05653ab275033dc5f639243bf2e09\", element=\"f.72D27BA379EAAC204E10532F1F19D4A9.d.F51715F63984327BA7D8A15BE7C1D717.e.255\")>,\n",
       " <selenium.webdriver.remote.webelement.WebElement (session=\"0ae05653ab275033dc5f639243bf2e09\", element=\"f.72D27BA379EAAC204E10532F1F19D4A9.d.F51715F63984327BA7D8A15BE7C1D717.e.256\")>,\n",
       " <selenium.webdriver.remote.webelement.WebElement (session=\"0ae05653ab275033dc5f639243bf2e09\", element=\"f.72D27BA379EAAC204E10532F1F19D4A9.d.F51715F63984327BA7D8A15BE7C1D717.e.257\")>,\n",
       " <selenium.webdriver.remote.webelement.WebElement (session=\"0ae05653ab275033dc5f639243bf2e09\", element=\"f.72D27BA379EAAC204E10532F1F19D4A9.d.F51715F63984327BA7D8A15BE7C1D717.e.258\")>,\n",
       " <selenium.webdriver.remote.webelement.WebElement (session=\"0ae05653ab275033dc5f639243bf2e09\", element=\"f.72D27BA379EAAC204E10532F1F19D4A9.d.F51715F63984327BA7D8A15BE7C1D717.e.259\")>]"
      ]
     },
     "execution_count": 202,
     "metadata": {},
     "output_type": "execute_result"
    }
   ],
   "source": [
    "time.sleep(5)\n",
    "row = data.find_elements(By.TAG_NAME, value=\"tr\")\n",
    "row"
   ]
  },
  {
   "cell_type": "code",
   "execution_count": null,
   "metadata": {},
   "outputs": [
    {
     "ename": "IndexError",
     "evalue": "list index out of range",
     "output_type": "error",
     "traceback": [
      "\u001b[1;31m---------------------------------------------------------------------------\u001b[0m",
      "\u001b[1;31mIndexError\u001b[0m                                Traceback (most recent call last)",
      "Cell \u001b[1;32mIn[201], line 3\u001b[0m\n\u001b[0;32m      1\u001b[0m ob \u001b[38;5;241m=\u001b[39m row[\u001b[38;5;241m1\u001b[39m]\n\u001b[0;32m      2\u001b[0m lst \u001b[38;5;241m=\u001b[39m [\u001b[38;5;124m\"\u001b[39m\u001b[38;5;124mcn\u001b[39m\u001b[38;5;124m\"\u001b[39m,\u001b[38;5;124m\"\u001b[39m\u001b[38;5;124mchuyển nhượng\u001b[39m\u001b[38;5;124m\"\u001b[39m]\n\u001b[1;32m----> 3\u001b[0m txt \u001b[38;5;241m=\u001b[39m \u001b[43mob\u001b[49m\u001b[38;5;241;43m.\u001b[39;49m\u001b[43mfind_elements\u001b[49m\u001b[43m(\u001b[49m\u001b[43mBy\u001b[49m\u001b[38;5;241;43m.\u001b[39;49m\u001b[43mCLASS_NAME\u001b[49m\u001b[43m,\u001b[49m\u001b[43m \u001b[49m\u001b[43mvalue\u001b[49m\u001b[38;5;241;43m=\u001b[39;49m\u001b[43m \u001b[49m\u001b[38;5;124;43m\"\u001b[39;49m\u001b[38;5;124;43mng-binding\u001b[39;49m\u001b[38;5;124;43m\"\u001b[39;49m\u001b[43m)\u001b[49m\u001b[43m[\u001b[49m\u001b[38;5;241;43m5\u001b[39;49m\u001b[43m]\u001b[49m\u001b[38;5;241m.\u001b[39mtext\n",
      "\u001b[1;31mIndexError\u001b[0m: list index out of range"
     ]
    }
   ],
   "source": [
    "ob = row[1]\n",
    "lst = [\"cn\",\"chuyển nhượng\"]\n",
    "txt = ob.find_elements(By.CLASS_NAME, value= \"ng-binding\")[5].text"
   ]
  },
  {
   "cell_type": "code",
   "execution_count": null,
   "metadata": {},
   "outputs": [],
   "source": [
    "for item in lst:\n",
    "    if item in txt.lower():\n",
    "        ob.click()"
   ]
  },
  {
   "cell_type": "code",
   "execution_count": null,
   "metadata": {},
   "outputs": [],
   "source": []
  }
 ],
 "metadata": {
  "kernelspec": {
   "display_name": ".venv",
   "language": "python",
   "name": "python3"
  },
  "language_info": {
   "codemirror_mode": {
    "name": "ipython",
    "version": 3
   },
   "file_extension": ".py",
   "mimetype": "text/x-python",
   "name": "python",
   "nbconvert_exporter": "python",
   "pygments_lexer": "ipython3",
   "version": "3.11.0"
  }
 },
 "nbformat": 4,
 "nbformat_minor": 2
}
