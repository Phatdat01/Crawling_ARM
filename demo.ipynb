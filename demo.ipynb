{
 "cells": [
  {
   "cell_type": "code",
   "execution_count": 126,
   "metadata": {},
   "outputs": [],
   "source": [
    "import json\n",
    "from pathlib import Path\n",
    "from crawling import load_chrome, open_web, login, wait_element"
   ]
  },
  {
   "cell_type": "code",
   "execution_count": 127,
   "metadata": {},
   "outputs": [],
   "source": [
    "import json\n",
    "import time\n",
    "from typing import List, Tuple\n",
    "\n",
    "from selenium import webdriver\n",
    "from selenium.webdriver.common.by import By\n",
    "from selenium.webdriver.common.keys import Keys\n",
    "from selenium.webdriver.chrome.service import Service\n",
    "from selenium.webdriver.support.ui import WebDriverWait, Select\n",
    "from selenium.webdriver.remote.webdriver import WebDriver\n",
    "from selenium.webdriver.remote.webelement import WebElement\n",
    "from selenium.webdriver.support import expected_conditions as EC\n",
    "from selenium.webdriver.edge.service import Service as EdgeService\n",
    "from webdriver_manager.microsoft import EdgeChromiumDriverManager"
   ]
  },
  {
   "cell_type": "code",
   "execution_count": 128,
   "metadata": {},
   "outputs": [],
   "source": [
    "DOWNLOAD_PATH = str(Path.home() / \"Downloads\")\n",
    "fi = open(\"credentials.json\",encoding=\"UTF-8\")\n",
    "cre = json.load(fi)"
   ]
  },
  {
   "cell_type": "code",
   "execution_count": 129,
   "metadata": {},
   "outputs": [],
   "source": [
    "driver = open_web(cre=cre)\n",
    "driver.maximize_window()"
   ]
  },
  {
   "cell_type": "code",
   "execution_count": 130,
   "metadata": {},
   "outputs": [],
   "source": [
    "def login(driver: WebDriver, cre: json):\n",
    "    name = wait_element(driver=driver, timeout=10,key=\"username\",by=\"name\")\n",
    "    name.send_keys(cre[\"name\"])\n",
    "    pw= driver.find_element(By.NAME, \"password\")\n",
    "    pw.send_keys(cre[\"pw\"])\n",
    "    login = wait_element(driver=driver, timeout=10,key=\"ui.fluid.large.submit.button\",by=\"class\")\n",
    "    login.click()"
   ]
  },
  {
   "cell_type": "code",
   "execution_count": 131,
   "metadata": {},
   "outputs": [],
   "source": [
    "login(driver=driver, cre=cre)"
   ]
  },
  {
   "cell_type": "code",
   "execution_count": 133,
   "metadata": {},
   "outputs": [],
   "source": [
    "arm = driver.find_elements(By.CLASS_NAME, value=\"h-f.ng-binding.ng-scope\")[1]\n",
    "arm.click()"
   ]
  },
  {
   "cell_type": "code",
   "execution_count": 134,
   "metadata": {},
   "outputs": [],
   "source": [
    "search_option = driver.find_element(By.ID, value=\"8543\")"
   ]
  },
  {
   "cell_type": "code",
   "execution_count": 135,
   "metadata": {},
   "outputs": [],
   "source": [
    "search_option.click()"
   ]
  },
  {
   "cell_type": "code",
   "execution_count": 136,
   "metadata": {},
   "outputs": [],
   "source": [
    "search_button = driver.find_element(By.CLASS_NAME, value=\"submit.ui.button.green.text-white.m-r-7\")\n",
    "search_button.click()"
   ]
  },
  {
   "cell_type": "code",
   "execution_count": 137,
   "metadata": {},
   "outputs": [
    {
     "data": {
      "text/plain": [
       "<selenium.webdriver.remote.webelement.WebElement (session=\"f2a3dbe308d7bd510fe53c5b35b8305f\", element=\"f.0B16B8A0DB713357B523F37A2F918418.d.8CA2488B69F00699368812CF827E052A.e.161\")>"
      ]
     },
     "execution_count": 137,
     "metadata": {},
     "output_type": "execute_result"
    }
   ],
   "source": [
    "re_from = driver.find_element(By.NAME, value=\"NgayNhanTu\")\n",
    "re_from"
   ]
  },
  {
   "cell_type": "code",
   "execution_count": 138,
   "metadata": {},
   "outputs": [],
   "source": [
    "re_from.clear()\n",
    "re_from.send_keys(cre['re_from'])"
   ]
  },
  {
   "cell_type": "code",
   "execution_count": 139,
   "metadata": {},
   "outputs": [],
   "source": [
    "re_to = driver.find_element(By.NAME, value=\"NgayNhanDen\")\n",
    "re_to.clear()\n",
    "re_to.send_keys(cre['re_to'])"
   ]
  },
  {
   "cell_type": "code",
   "execution_count": 140,
   "metadata": {},
   "outputs": [],
   "source": [
    "result_from = driver.find_element(By.NAME, value=\"NgayHenTraTu\")\n",
    "result_from.clear()\n",
    "result_from.send_keys(cre['result_from'])\n",
    "result_to = driver.find_element(By.NAME, value=\"NgayHenTraDen\")\n",
    "result_to.clear()\n",
    "result_to.send_keys(cre['result_to'])"
   ]
  },
  {
   "cell_type": "code",
   "execution_count": 141,
   "metadata": {},
   "outputs": [
    {
     "data": {
      "text/plain": [
       "<selenium.webdriver.remote.webelement.WebElement (session=\"f2a3dbe308d7bd510fe53c5b35b8305f\", element=\"f.0B16B8A0DB713357B523F37A2F918418.d.8CA2488B69F00699368812CF827E052A.e.200\")>"
      ]
     },
     "execution_count": 141,
     "metadata": {},
     "output_type": "execute_result"
    }
   ],
   "source": [
    "search = driver.find_element(By.ID, value=\"tkDiaChiXaThuaDat\")\n",
    "search"
   ]
  },
  {
   "cell_type": "code",
   "execution_count": 142,
   "metadata": {},
   "outputs": [
    {
     "data": {
      "text/plain": [
       "<selenium.webdriver.remote.webelement.WebElement (session=\"f2a3dbe308d7bd510fe53c5b35b8305f\", element=\"f.0B16B8A0DB713357B523F37A2F918418.d.8CA2488B69F00699368812CF827E052A.e.190\")>"
      ]
     },
     "execution_count": 142,
     "metadata": {},
     "output_type": "execute_result"
    }
   ],
   "source": [
    "input = search.find_element(By.CLASS_NAME, value=\"search\")\n",
    "input"
   ]
  },
  {
   "cell_type": "code",
   "execution_count": 143,
   "metadata": {},
   "outputs": [],
   "source": [
    "input.clear()\n",
    "input.send_keys(cre['ward'])"
   ]
  },
  {
   "cell_type": "code",
   "execution_count": 144,
   "metadata": {},
   "outputs": [],
   "source": [
    "search_bt = driver.find_element(By.ID, value=\"btnTimKiem\")\n",
    "search_bt.click()"
   ]
  },
  {
   "cell_type": "code",
   "execution_count": 146,
   "metadata": {},
   "outputs": [
    {
     "data": {
      "text/plain": [
       "[<selenium.webdriver.remote.webelement.WebElement (session=\"f2a3dbe308d7bd510fe53c5b35b8305f\", element=\"f.0B16B8A0DB713357B523F37A2F918418.d.8CA2488B69F00699368812CF827E052A.e.236\")>,\n",
       " <selenium.webdriver.remote.webelement.WebElement (session=\"f2a3dbe308d7bd510fe53c5b35b8305f\", element=\"f.0B16B8A0DB713357B523F37A2F918418.d.8CA2488B69F00699368812CF827E052A.e.238\")>,\n",
       " <selenium.webdriver.remote.webelement.WebElement (session=\"f2a3dbe308d7bd510fe53c5b35b8305f\", element=\"f.0B16B8A0DB713357B523F37A2F918418.d.8CA2488B69F00699368812CF827E052A.e.478\")>,\n",
       " <selenium.webdriver.remote.webelement.WebElement (session=\"f2a3dbe308d7bd510fe53c5b35b8305f\", element=\"f.0B16B8A0DB713357B523F37A2F918418.d.8CA2488B69F00699368812CF827E052A.e.230\")>,\n",
       " <selenium.webdriver.remote.webelement.WebElement (session=\"f2a3dbe308d7bd510fe53c5b35b8305f\", element=\"f.0B16B8A0DB713357B523F37A2F918418.d.8CA2488B69F00699368812CF827E052A.e.152\")>,\n",
       " <selenium.webdriver.remote.webelement.WebElement (session=\"f2a3dbe308d7bd510fe53c5b35b8305f\", element=\"f.0B16B8A0DB713357B523F37A2F918418.d.8CA2488B69F00699368812CF827E052A.e.480\")>,\n",
       " <selenium.webdriver.remote.webelement.WebElement (session=\"f2a3dbe308d7bd510fe53c5b35b8305f\", element=\"f.0B16B8A0DB713357B523F37A2F918418.d.8CA2488B69F00699368812CF827E052A.e.169\")>,\n",
       " <selenium.webdriver.remote.webelement.WebElement (session=\"f2a3dbe308d7bd510fe53c5b35b8305f\", element=\"f.0B16B8A0DB713357B523F37A2F918418.d.8CA2488B69F00699368812CF827E052A.e.491\")>,\n",
       " <selenium.webdriver.remote.webelement.WebElement (session=\"f2a3dbe308d7bd510fe53c5b35b8305f\", element=\"f.0B16B8A0DB713357B523F37A2F918418.d.8CA2488B69F00699368812CF827E052A.e.263\")>,\n",
       " <selenium.webdriver.remote.webelement.WebElement (session=\"f2a3dbe308d7bd510fe53c5b35b8305f\", element=\"f.0B16B8A0DB713357B523F37A2F918418.d.8CA2488B69F00699368812CF827E052A.e.280\")>,\n",
       " <selenium.webdriver.remote.webelement.WebElement (session=\"f2a3dbe308d7bd510fe53c5b35b8305f\", element=\"f.0B16B8A0DB713357B523F37A2F918418.d.8CA2488B69F00699368812CF827E052A.e.297\")>,\n",
       " <selenium.webdriver.remote.webelement.WebElement (session=\"f2a3dbe308d7bd510fe53c5b35b8305f\", element=\"f.0B16B8A0DB713357B523F37A2F918418.d.8CA2488B69F00699368812CF827E052A.e.317\")>,\n",
       " <selenium.webdriver.remote.webelement.WebElement (session=\"f2a3dbe308d7bd510fe53c5b35b8305f\", element=\"f.0B16B8A0DB713357B523F37A2F918418.d.8CA2488B69F00699368812CF827E052A.e.334\")>,\n",
       " <selenium.webdriver.remote.webelement.WebElement (session=\"f2a3dbe308d7bd510fe53c5b35b8305f\", element=\"f.0B16B8A0DB713357B523F37A2F918418.d.8CA2488B69F00699368812CF827E052A.e.726\")>,\n",
       " <selenium.webdriver.remote.webelement.WebElement (session=\"f2a3dbe308d7bd510fe53c5b35b8305f\", element=\"f.0B16B8A0DB713357B523F37A2F918418.d.8CA2488B69F00699368812CF827E052A.e.727\")>,\n",
       " <selenium.webdriver.remote.webelement.WebElement (session=\"f2a3dbe308d7bd510fe53c5b35b8305f\", element=\"f.0B16B8A0DB713357B523F37A2F918418.d.8CA2488B69F00699368812CF827E052A.e.728\")>,\n",
       " <selenium.webdriver.remote.webelement.WebElement (session=\"f2a3dbe308d7bd510fe53c5b35b8305f\", element=\"f.0B16B8A0DB713357B523F37A2F918418.d.8CA2488B69F00699368812CF827E052A.e.729\")>,\n",
       " <selenium.webdriver.remote.webelement.WebElement (session=\"f2a3dbe308d7bd510fe53c5b35b8305f\", element=\"f.0B16B8A0DB713357B523F37A2F918418.d.8CA2488B69F00699368812CF827E052A.e.730\")>,\n",
       " <selenium.webdriver.remote.webelement.WebElement (session=\"f2a3dbe308d7bd510fe53c5b35b8305f\", element=\"f.0B16B8A0DB713357B523F37A2F918418.d.8CA2488B69F00699368812CF827E052A.e.1196\")>,\n",
       " <selenium.webdriver.remote.webelement.WebElement (session=\"f2a3dbe308d7bd510fe53c5b35b8305f\", element=\"f.0B16B8A0DB713357B523F37A2F918418.d.8CA2488B69F00699368812CF827E052A.e.492\")>,\n",
       " <selenium.webdriver.remote.webelement.WebElement (session=\"f2a3dbe308d7bd510fe53c5b35b8305f\", element=\"f.0B16B8A0DB713357B523F37A2F918418.d.8CA2488B69F00699368812CF827E052A.e.496\")>,\n",
       " <selenium.webdriver.remote.webelement.WebElement (session=\"f2a3dbe308d7bd510fe53c5b35b8305f\", element=\"f.0B16B8A0DB713357B523F37A2F918418.d.8CA2488B69F00699368812CF827E052A.e.500\")>,\n",
       " <selenium.webdriver.remote.webelement.WebElement (session=\"f2a3dbe308d7bd510fe53c5b35b8305f\", element=\"f.0B16B8A0DB713357B523F37A2F918418.d.8CA2488B69F00699368812CF827E052A.e.504\")>,\n",
       " <selenium.webdriver.remote.webelement.WebElement (session=\"f2a3dbe308d7bd510fe53c5b35b8305f\", element=\"f.0B16B8A0DB713357B523F37A2F918418.d.8CA2488B69F00699368812CF827E052A.e.435\")>]"
      ]
     },
     "execution_count": 146,
     "metadata": {},
     "output_type": "execute_result"
    }
   ],
   "source": [
    "data = driver.find_elements(By.ID, value=\"danhSachHoSo\")\n",
    "data"
   ]
  },
  {
   "cell_type": "code",
   "execution_count": null,
   "metadata": {},
   "outputs": [],
   "source": []
  }
 ],
 "metadata": {
  "kernelspec": {
   "display_name": ".venv",
   "language": "python",
   "name": "python3"
  },
  "language_info": {
   "codemirror_mode": {
    "name": "ipython",
    "version": 3
   },
   "file_extension": ".py",
   "mimetype": "text/x-python",
   "name": "python",
   "nbconvert_exporter": "python",
   "pygments_lexer": "ipython3",
   "version": "3.11.0"
  }
 },
 "nbformat": 4,
 "nbformat_minor": 2
}
