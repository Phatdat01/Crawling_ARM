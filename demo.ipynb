{
 "cells": [
  {
   "cell_type": "code",
   "execution_count": 5,
   "metadata": {},
   "outputs": [],
   "source": [
    "import json\n",
    "from pathlib import Path\n",
    "from Crawl.crawling import load_chrome, open_web, login, wait_element"
   ]
  },
  {
   "cell_type": "code",
   "execution_count": 6,
   "metadata": {},
   "outputs": [],
   "source": [
    "import json\n",
    "import time\n",
    "from typing import List, Tuple\n",
    "\n",
    "from selenium import webdriver\n",
    "from selenium.webdriver.common.by import By\n",
    "from selenium.webdriver.common.keys import Keys\n",
    "from selenium.webdriver.chrome.service import Service\n",
    "from selenium.webdriver.support.ui import WebDriverWait, Select\n",
    "from selenium.webdriver.remote.webdriver import WebDriver\n",
    "from selenium.webdriver.remote.webelement import WebElement\n",
    "from selenium.webdriver.support import expected_conditions as EC\n",
    "from selenium.webdriver.edge.service import Service as EdgeService\n",
    "from webdriver_manager.microsoft import EdgeChromiumDriverManager"
   ]
  },
  {
   "cell_type": "code",
   "execution_count": 7,
   "metadata": {},
   "outputs": [],
   "source": [
    "DOWNLOAD_PATH = str(Path.home() / \"Downloads\")\n",
    "fi = open(\"credentials.json\",encoding=\"UTF-8\")\n",
    "cre = json.load(fi)"
   ]
  },
  {
   "cell_type": "code",
   "execution_count": 8,
   "metadata": {},
   "outputs": [],
   "source": [
    "driver = open_web(cre=cre)\n",
    "driver.maximize_window()"
   ]
  },
  {
   "cell_type": "code",
   "execution_count": 9,
   "metadata": {},
   "outputs": [],
   "source": [
    "def login(driver: WebDriver, cre: json):\n",
    "    name = wait_element(driver=driver, timeout=10,key=\"username\",by=\"name\")\n",
    "    name.send_keys(cre[\"name\"])\n",
    "    pw= driver.find_element(By.NAME, \"password\")\n",
    "    pw.send_keys(cre[\"pw\"])\n",
    "    login = wait_element(driver=driver, timeout=10,key=\"ui.fluid.large.submit.button\",by=\"class\")\n",
    "    login.click()"
   ]
  },
  {
   "cell_type": "code",
   "execution_count": 10,
   "metadata": {},
   "outputs": [],
   "source": [
    "login(driver=driver, cre=cre)"
   ]
  },
  {
   "cell_type": "code",
   "execution_count": 11,
   "metadata": {},
   "outputs": [],
   "source": [
    "time.sleep(5)\n",
    "arm = driver.find_elements(By.CLASS_NAME, value=\"h-f.ng-binding.ng-scope\")[1]\n",
    "arm.click()"
   ]
  },
  {
   "cell_type": "code",
   "execution_count": 12,
   "metadata": {},
   "outputs": [],
   "source": [
    "search_option = driver.find_element(By.ID, value=\"8543\")"
   ]
  },
  {
   "cell_type": "code",
   "execution_count": 13,
   "metadata": {},
   "outputs": [],
   "source": [
    "search_option.click()"
   ]
  },
  {
   "cell_type": "code",
   "execution_count": 14,
   "metadata": {},
   "outputs": [],
   "source": [
    "time.sleep(5)\n",
    "search_button = driver.find_element(By.CLASS_NAME, value=\"submit.ui.button.green.text-white.m-r-7\")\n",
    "search_button.click()"
   ]
  },
  {
   "cell_type": "code",
   "execution_count": 15,
   "metadata": {},
   "outputs": [
    {
     "data": {
      "text/plain": [
       "<selenium.webdriver.remote.webelement.WebElement (session=\"5798c1289cb285d7bcab1dcbe78bad16\", element=\"f.5F79572C0C3948C3779F0EB688DE3EB9.d.DE500479A774A4483DFB122B4A4DD22E.e.175\")>"
      ]
     },
     "execution_count": 15,
     "metadata": {},
     "output_type": "execute_result"
    }
   ],
   "source": [
    "re_from = driver.find_element(By.NAME, value=\"NgayNhanTu\")\n",
    "re_from"
   ]
  },
  {
   "cell_type": "code",
   "execution_count": 16,
   "metadata": {},
   "outputs": [],
   "source": [
    "re_from.clear()\n",
    "re_from.send_keys(cre['re_from'])"
   ]
  },
  {
   "cell_type": "code",
   "execution_count": 17,
   "metadata": {},
   "outputs": [],
   "source": [
    "re_to = driver.find_element(By.NAME, value=\"NgayNhanDen\")\n",
    "re_to.clear()\n",
    "re_to.send_keys(cre['re_to'])"
   ]
  },
  {
   "cell_type": "code",
   "execution_count": 18,
   "metadata": {},
   "outputs": [],
   "source": [
    "result_from = driver.find_element(By.NAME, value=\"NgayHenTraTu\")\n",
    "result_from.clear()\n",
    "result_from.send_keys(cre['result_from'])\n",
    "result_to = driver.find_element(By.NAME, value=\"NgayHenTraDen\")\n",
    "result_to.clear()\n",
    "result_to.send_keys(cre['result_to'])"
   ]
  },
  {
   "cell_type": "code",
   "execution_count": 19,
   "metadata": {},
   "outputs": [
    {
     "data": {
      "text/plain": [
       "<selenium.webdriver.remote.webelement.WebElement (session=\"5798c1289cb285d7bcab1dcbe78bad16\", element=\"f.5F79572C0C3948C3779F0EB688DE3EB9.d.DE500479A774A4483DFB122B4A4DD22E.e.214\")>"
      ]
     },
     "execution_count": 19,
     "metadata": {},
     "output_type": "execute_result"
    }
   ],
   "source": [
    "search = driver.find_element(By.ID, value=\"tkDiaChiXaThuaDat\")\n",
    "search"
   ]
  },
  {
   "cell_type": "code",
   "execution_count": 20,
   "metadata": {},
   "outputs": [
    {
     "data": {
      "text/plain": [
       "<selenium.webdriver.remote.webelement.WebElement (session=\"5798c1289cb285d7bcab1dcbe78bad16\", element=\"f.5F79572C0C3948C3779F0EB688DE3EB9.d.DE500479A774A4483DFB122B4A4DD22E.e.204\")>"
      ]
     },
     "execution_count": 20,
     "metadata": {},
     "output_type": "execute_result"
    }
   ],
   "source": [
    "input = search.find_element(By.CLASS_NAME, value=\"search\")\n",
    "input"
   ]
  },
  {
   "cell_type": "code",
   "execution_count": 21,
   "metadata": {},
   "outputs": [],
   "source": [
    "input.clear()\n",
    "input.send_keys(cre['ward'])"
   ]
  },
  {
   "cell_type": "code",
   "execution_count": 22,
   "metadata": {},
   "outputs": [],
   "source": [
    "time.sleep(3)\n",
    "search_bt = driver.find_element(By.ID, value=\"btnTimKiem\")\n",
    "search_bt.click()"
   ]
  },
  {
   "cell_type": "code",
   "execution_count": 23,
   "metadata": {},
   "outputs": [],
   "source": [
    "time.sleep(3)\n",
    "top_100 = driver.find_element(By.CLASS_NAME, value=\"ui.selection.floating.dropdown.w-auto\")\n",
    "top_100.click()"
   ]
  },
  {
   "cell_type": "code",
   "execution_count": 24,
   "metadata": {},
   "outputs": [],
   "source": [
    "a = top_100.find_element(By.XPATH, value=\"//*[@data-value='100']\")\n",
    "a.click()"
   ]
  },
  {
   "cell_type": "code",
   "execution_count": 25,
   "metadata": {},
   "outputs": [
    {
     "data": {
      "text/plain": [
       "<selenium.webdriver.remote.webelement.WebElement (session=\"5798c1289cb285d7bcab1dcbe78bad16\", element=\"f.5F79572C0C3948C3779F0EB688DE3EB9.d.DE500479A774A4483DFB122B4A4DD22E.e.249\")>"
      ]
     },
     "execution_count": 25,
     "metadata": {},
     "output_type": "execute_result"
    }
   ],
   "source": [
    "current = driver.find_element(By.XPATH, value=\"//*[@ng-if='totalPage > 0']\")\n",
    "current"
   ]
  },
  {
   "cell_type": "code",
   "execution_count": 26,
   "metadata": {},
   "outputs": [],
   "source": [
    "current_range, last= current.find_elements(By.CLASS_NAME, value=\"ng-binding\")\n",
    "_, end = map(int, current_range.text.split(\" - \"))"
   ]
  },
  {
   "cell_type": "code",
   "execution_count": 27,
   "metadata": {},
   "outputs": [
    {
     "data": {
      "text/plain": [
       "(1, 100)"
      ]
     },
     "execution_count": 27,
     "metadata": {},
     "output_type": "execute_result"
    }
   ],
   "source": [
    "_, end"
   ]
  },
  {
   "cell_type": "code",
   "execution_count": 28,
   "metadata": {},
   "outputs": [],
   "source": [
    "next = driver.find_element(By.XPATH, value=\"//*[@title='Trang sau']\")\n",
    "next.click()"
   ]
  },
  {
   "cell_type": "code",
   "execution_count": 41,
   "metadata": {},
   "outputs": [
    {
     "data": {
      "text/plain": [
       "<selenium.webdriver.remote.webelement.WebElement (session=\"5798c1289cb285d7bcab1dcbe78bad16\", element=\"f.5F79572C0C3948C3779F0EB688DE3EB9.d.DE500479A774A4483DFB122B4A4DD22E.e.685\")>"
      ]
     },
     "execution_count": 41,
     "metadata": {},
     "output_type": "execute_result"
    }
   ],
   "source": [
    "data = driver.find_element(By.ID, value=\"danhSachHoSo\")\n",
    "data"
   ]
  },
  {
   "cell_type": "code",
   "execution_count": 42,
   "metadata": {},
   "outputs": [
    {
     "data": {
      "text/plain": [
       "[<selenium.webdriver.remote.webelement.WebElement (session=\"5798c1289cb285d7bcab1dcbe78bad16\", element=\"f.5F79572C0C3948C3779F0EB688DE3EB9.d.DE500479A774A4483DFB122B4A4DD22E.e.686\")>,\n",
       " <selenium.webdriver.remote.webelement.WebElement (session=\"5798c1289cb285d7bcab1dcbe78bad16\", element=\"f.5F79572C0C3948C3779F0EB688DE3EB9.d.DE500479A774A4483DFB122B4A4DD22E.e.687\")>,\n",
       " <selenium.webdriver.remote.webelement.WebElement (session=\"5798c1289cb285d7bcab1dcbe78bad16\", element=\"f.5F79572C0C3948C3779F0EB688DE3EB9.d.DE500479A774A4483DFB122B4A4DD22E.e.688\")>,\n",
       " <selenium.webdriver.remote.webelement.WebElement (session=\"5798c1289cb285d7bcab1dcbe78bad16\", element=\"f.5F79572C0C3948C3779F0EB688DE3EB9.d.DE500479A774A4483DFB122B4A4DD22E.e.689\")>,\n",
       " <selenium.webdriver.remote.webelement.WebElement (session=\"5798c1289cb285d7bcab1dcbe78bad16\", element=\"f.5F79572C0C3948C3779F0EB688DE3EB9.d.DE500479A774A4483DFB122B4A4DD22E.e.690\")>,\n",
       " <selenium.webdriver.remote.webelement.WebElement (session=\"5798c1289cb285d7bcab1dcbe78bad16\", element=\"f.5F79572C0C3948C3779F0EB688DE3EB9.d.DE500479A774A4483DFB122B4A4DD22E.e.691\")>,\n",
       " <selenium.webdriver.remote.webelement.WebElement (session=\"5798c1289cb285d7bcab1dcbe78bad16\", element=\"f.5F79572C0C3948C3779F0EB688DE3EB9.d.DE500479A774A4483DFB122B4A4DD22E.e.692\")>,\n",
       " <selenium.webdriver.remote.webelement.WebElement (session=\"5798c1289cb285d7bcab1dcbe78bad16\", element=\"f.5F79572C0C3948C3779F0EB688DE3EB9.d.DE500479A774A4483DFB122B4A4DD22E.e.693\")>,\n",
       " <selenium.webdriver.remote.webelement.WebElement (session=\"5798c1289cb285d7bcab1dcbe78bad16\", element=\"f.5F79572C0C3948C3779F0EB688DE3EB9.d.DE500479A774A4483DFB122B4A4DD22E.e.694\")>,\n",
       " <selenium.webdriver.remote.webelement.WebElement (session=\"5798c1289cb285d7bcab1dcbe78bad16\", element=\"f.5F79572C0C3948C3779F0EB688DE3EB9.d.DE500479A774A4483DFB122B4A4DD22E.e.695\")>,\n",
       " <selenium.webdriver.remote.webelement.WebElement (session=\"5798c1289cb285d7bcab1dcbe78bad16\", element=\"f.5F79572C0C3948C3779F0EB688DE3EB9.d.DE500479A774A4483DFB122B4A4DD22E.e.696\")>,\n",
       " <selenium.webdriver.remote.webelement.WebElement (session=\"5798c1289cb285d7bcab1dcbe78bad16\", element=\"f.5F79572C0C3948C3779F0EB688DE3EB9.d.DE500479A774A4483DFB122B4A4DD22E.e.697\")>,\n",
       " <selenium.webdriver.remote.webelement.WebElement (session=\"5798c1289cb285d7bcab1dcbe78bad16\", element=\"f.5F79572C0C3948C3779F0EB688DE3EB9.d.DE500479A774A4483DFB122B4A4DD22E.e.698\")>,\n",
       " <selenium.webdriver.remote.webelement.WebElement (session=\"5798c1289cb285d7bcab1dcbe78bad16\", element=\"f.5F79572C0C3948C3779F0EB688DE3EB9.d.DE500479A774A4483DFB122B4A4DD22E.e.699\")>,\n",
       " <selenium.webdriver.remote.webelement.WebElement (session=\"5798c1289cb285d7bcab1dcbe78bad16\", element=\"f.5F79572C0C3948C3779F0EB688DE3EB9.d.DE500479A774A4483DFB122B4A4DD22E.e.700\")>,\n",
       " <selenium.webdriver.remote.webelement.WebElement (session=\"5798c1289cb285d7bcab1dcbe78bad16\", element=\"f.5F79572C0C3948C3779F0EB688DE3EB9.d.DE500479A774A4483DFB122B4A4DD22E.e.701\")>,\n",
       " <selenium.webdriver.remote.webelement.WebElement (session=\"5798c1289cb285d7bcab1dcbe78bad16\", element=\"f.5F79572C0C3948C3779F0EB688DE3EB9.d.DE500479A774A4483DFB122B4A4DD22E.e.702\")>,\n",
       " <selenium.webdriver.remote.webelement.WebElement (session=\"5798c1289cb285d7bcab1dcbe78bad16\", element=\"f.5F79572C0C3948C3779F0EB688DE3EB9.d.DE500479A774A4483DFB122B4A4DD22E.e.703\")>,\n",
       " <selenium.webdriver.remote.webelement.WebElement (session=\"5798c1289cb285d7bcab1dcbe78bad16\", element=\"f.5F79572C0C3948C3779F0EB688DE3EB9.d.DE500479A774A4483DFB122B4A4DD22E.e.704\")>,\n",
       " <selenium.webdriver.remote.webelement.WebElement (session=\"5798c1289cb285d7bcab1dcbe78bad16\", element=\"f.5F79572C0C3948C3779F0EB688DE3EB9.d.DE500479A774A4483DFB122B4A4DD22E.e.705\")>,\n",
       " <selenium.webdriver.remote.webelement.WebElement (session=\"5798c1289cb285d7bcab1dcbe78bad16\", element=\"f.5F79572C0C3948C3779F0EB688DE3EB9.d.DE500479A774A4483DFB122B4A4DD22E.e.706\")>,\n",
       " <selenium.webdriver.remote.webelement.WebElement (session=\"5798c1289cb285d7bcab1dcbe78bad16\", element=\"f.5F79572C0C3948C3779F0EB688DE3EB9.d.DE500479A774A4483DFB122B4A4DD22E.e.707\")>,\n",
       " <selenium.webdriver.remote.webelement.WebElement (session=\"5798c1289cb285d7bcab1dcbe78bad16\", element=\"f.5F79572C0C3948C3779F0EB688DE3EB9.d.DE500479A774A4483DFB122B4A4DD22E.e.708\")>,\n",
       " <selenium.webdriver.remote.webelement.WebElement (session=\"5798c1289cb285d7bcab1dcbe78bad16\", element=\"f.5F79572C0C3948C3779F0EB688DE3EB9.d.DE500479A774A4483DFB122B4A4DD22E.e.709\")>,\n",
       " <selenium.webdriver.remote.webelement.WebElement (session=\"5798c1289cb285d7bcab1dcbe78bad16\", element=\"f.5F79572C0C3948C3779F0EB688DE3EB9.d.DE500479A774A4483DFB122B4A4DD22E.e.710\")>,\n",
       " <selenium.webdriver.remote.webelement.WebElement (session=\"5798c1289cb285d7bcab1dcbe78bad16\", element=\"f.5F79572C0C3948C3779F0EB688DE3EB9.d.DE500479A774A4483DFB122B4A4DD22E.e.711\")>,\n",
       " <selenium.webdriver.remote.webelement.WebElement (session=\"5798c1289cb285d7bcab1dcbe78bad16\", element=\"f.5F79572C0C3948C3779F0EB688DE3EB9.d.DE500479A774A4483DFB122B4A4DD22E.e.712\")>,\n",
       " <selenium.webdriver.remote.webelement.WebElement (session=\"5798c1289cb285d7bcab1dcbe78bad16\", element=\"f.5F79572C0C3948C3779F0EB688DE3EB9.d.DE500479A774A4483DFB122B4A4DD22E.e.713\")>,\n",
       " <selenium.webdriver.remote.webelement.WebElement (session=\"5798c1289cb285d7bcab1dcbe78bad16\", element=\"f.5F79572C0C3948C3779F0EB688DE3EB9.d.DE500479A774A4483DFB122B4A4DD22E.e.714\")>,\n",
       " <selenium.webdriver.remote.webelement.WebElement (session=\"5798c1289cb285d7bcab1dcbe78bad16\", element=\"f.5F79572C0C3948C3779F0EB688DE3EB9.d.DE500479A774A4483DFB122B4A4DD22E.e.715\")>,\n",
       " <selenium.webdriver.remote.webelement.WebElement (session=\"5798c1289cb285d7bcab1dcbe78bad16\", element=\"f.5F79572C0C3948C3779F0EB688DE3EB9.d.DE500479A774A4483DFB122B4A4DD22E.e.716\")>,\n",
       " <selenium.webdriver.remote.webelement.WebElement (session=\"5798c1289cb285d7bcab1dcbe78bad16\", element=\"f.5F79572C0C3948C3779F0EB688DE3EB9.d.DE500479A774A4483DFB122B4A4DD22E.e.717\")>,\n",
       " <selenium.webdriver.remote.webelement.WebElement (session=\"5798c1289cb285d7bcab1dcbe78bad16\", element=\"f.5F79572C0C3948C3779F0EB688DE3EB9.d.DE500479A774A4483DFB122B4A4DD22E.e.718\")>,\n",
       " <selenium.webdriver.remote.webelement.WebElement (session=\"5798c1289cb285d7bcab1dcbe78bad16\", element=\"f.5F79572C0C3948C3779F0EB688DE3EB9.d.DE500479A774A4483DFB122B4A4DD22E.e.719\")>,\n",
       " <selenium.webdriver.remote.webelement.WebElement (session=\"5798c1289cb285d7bcab1dcbe78bad16\", element=\"f.5F79572C0C3948C3779F0EB688DE3EB9.d.DE500479A774A4483DFB122B4A4DD22E.e.720\")>,\n",
       " <selenium.webdriver.remote.webelement.WebElement (session=\"5798c1289cb285d7bcab1dcbe78bad16\", element=\"f.5F79572C0C3948C3779F0EB688DE3EB9.d.DE500479A774A4483DFB122B4A4DD22E.e.721\")>,\n",
       " <selenium.webdriver.remote.webelement.WebElement (session=\"5798c1289cb285d7bcab1dcbe78bad16\", element=\"f.5F79572C0C3948C3779F0EB688DE3EB9.d.DE500479A774A4483DFB122B4A4DD22E.e.722\")>,\n",
       " <selenium.webdriver.remote.webelement.WebElement (session=\"5798c1289cb285d7bcab1dcbe78bad16\", element=\"f.5F79572C0C3948C3779F0EB688DE3EB9.d.DE500479A774A4483DFB122B4A4DD22E.e.723\")>,\n",
       " <selenium.webdriver.remote.webelement.WebElement (session=\"5798c1289cb285d7bcab1dcbe78bad16\", element=\"f.5F79572C0C3948C3779F0EB688DE3EB9.d.DE500479A774A4483DFB122B4A4DD22E.e.724\")>,\n",
       " <selenium.webdriver.remote.webelement.WebElement (session=\"5798c1289cb285d7bcab1dcbe78bad16\", element=\"f.5F79572C0C3948C3779F0EB688DE3EB9.d.DE500479A774A4483DFB122B4A4DD22E.e.725\")>,\n",
       " <selenium.webdriver.remote.webelement.WebElement (session=\"5798c1289cb285d7bcab1dcbe78bad16\", element=\"f.5F79572C0C3948C3779F0EB688DE3EB9.d.DE500479A774A4483DFB122B4A4DD22E.e.726\")>,\n",
       " <selenium.webdriver.remote.webelement.WebElement (session=\"5798c1289cb285d7bcab1dcbe78bad16\", element=\"f.5F79572C0C3948C3779F0EB688DE3EB9.d.DE500479A774A4483DFB122B4A4DD22E.e.727\")>,\n",
       " <selenium.webdriver.remote.webelement.WebElement (session=\"5798c1289cb285d7bcab1dcbe78bad16\", element=\"f.5F79572C0C3948C3779F0EB688DE3EB9.d.DE500479A774A4483DFB122B4A4DD22E.e.728\")>,\n",
       " <selenium.webdriver.remote.webelement.WebElement (session=\"5798c1289cb285d7bcab1dcbe78bad16\", element=\"f.5F79572C0C3948C3779F0EB688DE3EB9.d.DE500479A774A4483DFB122B4A4DD22E.e.729\")>,\n",
       " <selenium.webdriver.remote.webelement.WebElement (session=\"5798c1289cb285d7bcab1dcbe78bad16\", element=\"f.5F79572C0C3948C3779F0EB688DE3EB9.d.DE500479A774A4483DFB122B4A4DD22E.e.730\")>,\n",
       " <selenium.webdriver.remote.webelement.WebElement (session=\"5798c1289cb285d7bcab1dcbe78bad16\", element=\"f.5F79572C0C3948C3779F0EB688DE3EB9.d.DE500479A774A4483DFB122B4A4DD22E.e.731\")>,\n",
       " <selenium.webdriver.remote.webelement.WebElement (session=\"5798c1289cb285d7bcab1dcbe78bad16\", element=\"f.5F79572C0C3948C3779F0EB688DE3EB9.d.DE500479A774A4483DFB122B4A4DD22E.e.732\")>,\n",
       " <selenium.webdriver.remote.webelement.WebElement (session=\"5798c1289cb285d7bcab1dcbe78bad16\", element=\"f.5F79572C0C3948C3779F0EB688DE3EB9.d.DE500479A774A4483DFB122B4A4DD22E.e.733\")>,\n",
       " <selenium.webdriver.remote.webelement.WebElement (session=\"5798c1289cb285d7bcab1dcbe78bad16\", element=\"f.5F79572C0C3948C3779F0EB688DE3EB9.d.DE500479A774A4483DFB122B4A4DD22E.e.734\")>,\n",
       " <selenium.webdriver.remote.webelement.WebElement (session=\"5798c1289cb285d7bcab1dcbe78bad16\", element=\"f.5F79572C0C3948C3779F0EB688DE3EB9.d.DE500479A774A4483DFB122B4A4DD22E.e.735\")>,\n",
       " <selenium.webdriver.remote.webelement.WebElement (session=\"5798c1289cb285d7bcab1dcbe78bad16\", element=\"f.5F79572C0C3948C3779F0EB688DE3EB9.d.DE500479A774A4483DFB122B4A4DD22E.e.736\")>,\n",
       " <selenium.webdriver.remote.webelement.WebElement (session=\"5798c1289cb285d7bcab1dcbe78bad16\", element=\"f.5F79572C0C3948C3779F0EB688DE3EB9.d.DE500479A774A4483DFB122B4A4DD22E.e.737\")>,\n",
       " <selenium.webdriver.remote.webelement.WebElement (session=\"5798c1289cb285d7bcab1dcbe78bad16\", element=\"f.5F79572C0C3948C3779F0EB688DE3EB9.d.DE500479A774A4483DFB122B4A4DD22E.e.738\")>,\n",
       " <selenium.webdriver.remote.webelement.WebElement (session=\"5798c1289cb285d7bcab1dcbe78bad16\", element=\"f.5F79572C0C3948C3779F0EB688DE3EB9.d.DE500479A774A4483DFB122B4A4DD22E.e.739\")>,\n",
       " <selenium.webdriver.remote.webelement.WebElement (session=\"5798c1289cb285d7bcab1dcbe78bad16\", element=\"f.5F79572C0C3948C3779F0EB688DE3EB9.d.DE500479A774A4483DFB122B4A4DD22E.e.740\")>,\n",
       " <selenium.webdriver.remote.webelement.WebElement (session=\"5798c1289cb285d7bcab1dcbe78bad16\", element=\"f.5F79572C0C3948C3779F0EB688DE3EB9.d.DE500479A774A4483DFB122B4A4DD22E.e.741\")>,\n",
       " <selenium.webdriver.remote.webelement.WebElement (session=\"5798c1289cb285d7bcab1dcbe78bad16\", element=\"f.5F79572C0C3948C3779F0EB688DE3EB9.d.DE500479A774A4483DFB122B4A4DD22E.e.742\")>,\n",
       " <selenium.webdriver.remote.webelement.WebElement (session=\"5798c1289cb285d7bcab1dcbe78bad16\", element=\"f.5F79572C0C3948C3779F0EB688DE3EB9.d.DE500479A774A4483DFB122B4A4DD22E.e.743\")>,\n",
       " <selenium.webdriver.remote.webelement.WebElement (session=\"5798c1289cb285d7bcab1dcbe78bad16\", element=\"f.5F79572C0C3948C3779F0EB688DE3EB9.d.DE500479A774A4483DFB122B4A4DD22E.e.744\")>,\n",
       " <selenium.webdriver.remote.webelement.WebElement (session=\"5798c1289cb285d7bcab1dcbe78bad16\", element=\"f.5F79572C0C3948C3779F0EB688DE3EB9.d.DE500479A774A4483DFB122B4A4DD22E.e.745\")>,\n",
       " <selenium.webdriver.remote.webelement.WebElement (session=\"5798c1289cb285d7bcab1dcbe78bad16\", element=\"f.5F79572C0C3948C3779F0EB688DE3EB9.d.DE500479A774A4483DFB122B4A4DD22E.e.746\")>,\n",
       " <selenium.webdriver.remote.webelement.WebElement (session=\"5798c1289cb285d7bcab1dcbe78bad16\", element=\"f.5F79572C0C3948C3779F0EB688DE3EB9.d.DE500479A774A4483DFB122B4A4DD22E.e.747\")>,\n",
       " <selenium.webdriver.remote.webelement.WebElement (session=\"5798c1289cb285d7bcab1dcbe78bad16\", element=\"f.5F79572C0C3948C3779F0EB688DE3EB9.d.DE500479A774A4483DFB122B4A4DD22E.e.748\")>,\n",
       " <selenium.webdriver.remote.webelement.WebElement (session=\"5798c1289cb285d7bcab1dcbe78bad16\", element=\"f.5F79572C0C3948C3779F0EB688DE3EB9.d.DE500479A774A4483DFB122B4A4DD22E.e.749\")>,\n",
       " <selenium.webdriver.remote.webelement.WebElement (session=\"5798c1289cb285d7bcab1dcbe78bad16\", element=\"f.5F79572C0C3948C3779F0EB688DE3EB9.d.DE500479A774A4483DFB122B4A4DD22E.e.750\")>,\n",
       " <selenium.webdriver.remote.webelement.WebElement (session=\"5798c1289cb285d7bcab1dcbe78bad16\", element=\"f.5F79572C0C3948C3779F0EB688DE3EB9.d.DE500479A774A4483DFB122B4A4DD22E.e.751\")>,\n",
       " <selenium.webdriver.remote.webelement.WebElement (session=\"5798c1289cb285d7bcab1dcbe78bad16\", element=\"f.5F79572C0C3948C3779F0EB688DE3EB9.d.DE500479A774A4483DFB122B4A4DD22E.e.752\")>,\n",
       " <selenium.webdriver.remote.webelement.WebElement (session=\"5798c1289cb285d7bcab1dcbe78bad16\", element=\"f.5F79572C0C3948C3779F0EB688DE3EB9.d.DE500479A774A4483DFB122B4A4DD22E.e.753\")>,\n",
       " <selenium.webdriver.remote.webelement.WebElement (session=\"5798c1289cb285d7bcab1dcbe78bad16\", element=\"f.5F79572C0C3948C3779F0EB688DE3EB9.d.DE500479A774A4483DFB122B4A4DD22E.e.754\")>,\n",
       " <selenium.webdriver.remote.webelement.WebElement (session=\"5798c1289cb285d7bcab1dcbe78bad16\", element=\"f.5F79572C0C3948C3779F0EB688DE3EB9.d.DE500479A774A4483DFB122B4A4DD22E.e.755\")>,\n",
       " <selenium.webdriver.remote.webelement.WebElement (session=\"5798c1289cb285d7bcab1dcbe78bad16\", element=\"f.5F79572C0C3948C3779F0EB688DE3EB9.d.DE500479A774A4483DFB122B4A4DD22E.e.756\")>,\n",
       " <selenium.webdriver.remote.webelement.WebElement (session=\"5798c1289cb285d7bcab1dcbe78bad16\", element=\"f.5F79572C0C3948C3779F0EB688DE3EB9.d.DE500479A774A4483DFB122B4A4DD22E.e.757\")>,\n",
       " <selenium.webdriver.remote.webelement.WebElement (session=\"5798c1289cb285d7bcab1dcbe78bad16\", element=\"f.5F79572C0C3948C3779F0EB688DE3EB9.d.DE500479A774A4483DFB122B4A4DD22E.e.758\")>,\n",
       " <selenium.webdriver.remote.webelement.WebElement (session=\"5798c1289cb285d7bcab1dcbe78bad16\", element=\"f.5F79572C0C3948C3779F0EB688DE3EB9.d.DE500479A774A4483DFB122B4A4DD22E.e.759\")>,\n",
       " <selenium.webdriver.remote.webelement.WebElement (session=\"5798c1289cb285d7bcab1dcbe78bad16\", element=\"f.5F79572C0C3948C3779F0EB688DE3EB9.d.DE500479A774A4483DFB122B4A4DD22E.e.760\")>,\n",
       " <selenium.webdriver.remote.webelement.WebElement (session=\"5798c1289cb285d7bcab1dcbe78bad16\", element=\"f.5F79572C0C3948C3779F0EB688DE3EB9.d.DE500479A774A4483DFB122B4A4DD22E.e.761\")>,\n",
       " <selenium.webdriver.remote.webelement.WebElement (session=\"5798c1289cb285d7bcab1dcbe78bad16\", element=\"f.5F79572C0C3948C3779F0EB688DE3EB9.d.DE500479A774A4483DFB122B4A4DD22E.e.762\")>,\n",
       " <selenium.webdriver.remote.webelement.WebElement (session=\"5798c1289cb285d7bcab1dcbe78bad16\", element=\"f.5F79572C0C3948C3779F0EB688DE3EB9.d.DE500479A774A4483DFB122B4A4DD22E.e.763\")>,\n",
       " <selenium.webdriver.remote.webelement.WebElement (session=\"5798c1289cb285d7bcab1dcbe78bad16\", element=\"f.5F79572C0C3948C3779F0EB688DE3EB9.d.DE500479A774A4483DFB122B4A4DD22E.e.764\")>,\n",
       " <selenium.webdriver.remote.webelement.WebElement (session=\"5798c1289cb285d7bcab1dcbe78bad16\", element=\"f.5F79572C0C3948C3779F0EB688DE3EB9.d.DE500479A774A4483DFB122B4A4DD22E.e.765\")>,\n",
       " <selenium.webdriver.remote.webelement.WebElement (session=\"5798c1289cb285d7bcab1dcbe78bad16\", element=\"f.5F79572C0C3948C3779F0EB688DE3EB9.d.DE500479A774A4483DFB122B4A4DD22E.e.766\")>,\n",
       " <selenium.webdriver.remote.webelement.WebElement (session=\"5798c1289cb285d7bcab1dcbe78bad16\", element=\"f.5F79572C0C3948C3779F0EB688DE3EB9.d.DE500479A774A4483DFB122B4A4DD22E.e.767\")>,\n",
       " <selenium.webdriver.remote.webelement.WebElement (session=\"5798c1289cb285d7bcab1dcbe78bad16\", element=\"f.5F79572C0C3948C3779F0EB688DE3EB9.d.DE500479A774A4483DFB122B4A4DD22E.e.768\")>,\n",
       " <selenium.webdriver.remote.webelement.WebElement (session=\"5798c1289cb285d7bcab1dcbe78bad16\", element=\"f.5F79572C0C3948C3779F0EB688DE3EB9.d.DE500479A774A4483DFB122B4A4DD22E.e.769\")>,\n",
       " <selenium.webdriver.remote.webelement.WebElement (session=\"5798c1289cb285d7bcab1dcbe78bad16\", element=\"f.5F79572C0C3948C3779F0EB688DE3EB9.d.DE500479A774A4483DFB122B4A4DD22E.e.770\")>,\n",
       " <selenium.webdriver.remote.webelement.WebElement (session=\"5798c1289cb285d7bcab1dcbe78bad16\", element=\"f.5F79572C0C3948C3779F0EB688DE3EB9.d.DE500479A774A4483DFB122B4A4DD22E.e.771\")>,\n",
       " <selenium.webdriver.remote.webelement.WebElement (session=\"5798c1289cb285d7bcab1dcbe78bad16\", element=\"f.5F79572C0C3948C3779F0EB688DE3EB9.d.DE500479A774A4483DFB122B4A4DD22E.e.772\")>,\n",
       " <selenium.webdriver.remote.webelement.WebElement (session=\"5798c1289cb285d7bcab1dcbe78bad16\", element=\"f.5F79572C0C3948C3779F0EB688DE3EB9.d.DE500479A774A4483DFB122B4A4DD22E.e.773\")>,\n",
       " <selenium.webdriver.remote.webelement.WebElement (session=\"5798c1289cb285d7bcab1dcbe78bad16\", element=\"f.5F79572C0C3948C3779F0EB688DE3EB9.d.DE500479A774A4483DFB122B4A4DD22E.e.774\")>,\n",
       " <selenium.webdriver.remote.webelement.WebElement (session=\"5798c1289cb285d7bcab1dcbe78bad16\", element=\"f.5F79572C0C3948C3779F0EB688DE3EB9.d.DE500479A774A4483DFB122B4A4DD22E.e.775\")>,\n",
       " <selenium.webdriver.remote.webelement.WebElement (session=\"5798c1289cb285d7bcab1dcbe78bad16\", element=\"f.5F79572C0C3948C3779F0EB688DE3EB9.d.DE500479A774A4483DFB122B4A4DD22E.e.776\")>,\n",
       " <selenium.webdriver.remote.webelement.WebElement (session=\"5798c1289cb285d7bcab1dcbe78bad16\", element=\"f.5F79572C0C3948C3779F0EB688DE3EB9.d.DE500479A774A4483DFB122B4A4DD22E.e.777\")>,\n",
       " <selenium.webdriver.remote.webelement.WebElement (session=\"5798c1289cb285d7bcab1dcbe78bad16\", element=\"f.5F79572C0C3948C3779F0EB688DE3EB9.d.DE500479A774A4483DFB122B4A4DD22E.e.778\")>,\n",
       " <selenium.webdriver.remote.webelement.WebElement (session=\"5798c1289cb285d7bcab1dcbe78bad16\", element=\"f.5F79572C0C3948C3779F0EB688DE3EB9.d.DE500479A774A4483DFB122B4A4DD22E.e.779\")>,\n",
       " <selenium.webdriver.remote.webelement.WebElement (session=\"5798c1289cb285d7bcab1dcbe78bad16\", element=\"f.5F79572C0C3948C3779F0EB688DE3EB9.d.DE500479A774A4483DFB122B4A4DD22E.e.780\")>,\n",
       " <selenium.webdriver.remote.webelement.WebElement (session=\"5798c1289cb285d7bcab1dcbe78bad16\", element=\"f.5F79572C0C3948C3779F0EB688DE3EB9.d.DE500479A774A4483DFB122B4A4DD22E.e.781\")>,\n",
       " <selenium.webdriver.remote.webelement.WebElement (session=\"5798c1289cb285d7bcab1dcbe78bad16\", element=\"f.5F79572C0C3948C3779F0EB688DE3EB9.d.DE500479A774A4483DFB122B4A4DD22E.e.782\")>,\n",
       " <selenium.webdriver.remote.webelement.WebElement (session=\"5798c1289cb285d7bcab1dcbe78bad16\", element=\"f.5F79572C0C3948C3779F0EB688DE3EB9.d.DE500479A774A4483DFB122B4A4DD22E.e.783\")>,\n",
       " <selenium.webdriver.remote.webelement.WebElement (session=\"5798c1289cb285d7bcab1dcbe78bad16\", element=\"f.5F79572C0C3948C3779F0EB688DE3EB9.d.DE500479A774A4483DFB122B4A4DD22E.e.784\")>,\n",
       " <selenium.webdriver.remote.webelement.WebElement (session=\"5798c1289cb285d7bcab1dcbe78bad16\", element=\"f.5F79572C0C3948C3779F0EB688DE3EB9.d.DE500479A774A4483DFB122B4A4DD22E.e.785\")>,\n",
       " <selenium.webdriver.remote.webelement.WebElement (session=\"5798c1289cb285d7bcab1dcbe78bad16\", element=\"f.5F79572C0C3948C3779F0EB688DE3EB9.d.DE500479A774A4483DFB122B4A4DD22E.e.786\")>]"
      ]
     },
     "execution_count": 42,
     "metadata": {},
     "output_type": "execute_result"
    }
   ],
   "source": [
    "time.sleep(5)\n",
    "row = data.find_elements(By.TAG_NAME, value=\"tr\")\n",
    "row"
   ]
  },
  {
   "cell_type": "code",
   "execution_count": 43,
   "metadata": {},
   "outputs": [],
   "source": [
    "ob = row[1]\n",
    "lst = [\"cn\",\"chuyển nhượng\"]\n",
    "txt = ob.find_elements(By.CLASS_NAME, value= \"ng-binding\")[5].text"
   ]
  },
  {
   "cell_type": "code",
   "execution_count": 44,
   "metadata": {},
   "outputs": [],
   "source": [
    "time.sleep(3)\n",
    "for item in lst:\n",
    "    if item in txt.lower():\n",
    "        ob.click()"
   ]
  },
  {
   "cell_type": "code",
   "execution_count": null,
   "metadata": {},
   "outputs": [],
   "source": [
    "info = driver.find_element(By.CLASS_NAME, value=\"item.XTT\")\n",
    "info.click()"
   ]
  },
  {
   "cell_type": "code",
   "execution_count": 45,
   "metadata": {},
   "outputs": [
    {
     "data": {
      "text/plain": [
       "[<selenium.webdriver.remote.webelement.WebElement (session=\"5798c1289cb285d7bcab1dcbe78bad16\", element=\"f.5F79572C0C3948C3779F0EB688DE3EB9.d.DE500479A774A4483DFB122B4A4DD22E.e.847\")>,\n",
       " <selenium.webdriver.remote.webelement.WebElement (session=\"5798c1289cb285d7bcab1dcbe78bad16\", element=\"f.5F79572C0C3948C3779F0EB688DE3EB9.d.DE500479A774A4483DFB122B4A4DD22E.e.848\")>,\n",
       " <selenium.webdriver.remote.webelement.WebElement (session=\"5798c1289cb285d7bcab1dcbe78bad16\", element=\"f.5F79572C0C3948C3779F0EB688DE3EB9.d.DE500479A774A4483DFB122B4A4DD22E.e.849\")>,\n",
       " <selenium.webdriver.remote.webelement.WebElement (session=\"5798c1289cb285d7bcab1dcbe78bad16\", element=\"f.5F79572C0C3948C3779F0EB688DE3EB9.d.DE500479A774A4483DFB122B4A4DD22E.e.850\")>,\n",
       " <selenium.webdriver.remote.webelement.WebElement (session=\"5798c1289cb285d7bcab1dcbe78bad16\", element=\"f.5F79572C0C3948C3779F0EB688DE3EB9.d.DE500479A774A4483DFB122B4A4DD22E.e.851\")>,\n",
       " <selenium.webdriver.remote.webelement.WebElement (session=\"5798c1289cb285d7bcab1dcbe78bad16\", element=\"f.5F79572C0C3948C3779F0EB688DE3EB9.d.DE500479A774A4483DFB122B4A4DD22E.e.852\")>]"
      ]
     },
     "execution_count": 45,
     "metadata": {},
     "output_type": "execute_result"
    }
   ],
   "source": [
    "close = driver.find_elements(By.CLASS_NAME,value=\"close.icon\")\n",
    "close"
   ]
  },
  {
   "cell_type": "code",
   "execution_count": 48,
   "metadata": {},
   "outputs": [],
   "source": [
    "close = driver.find_element(By.CSS_SELECTOR, value='.close.icon[style=\";\"]')\n",
    "close.click()"
   ]
  },
  {
   "cell_type": "code",
   "execution_count": 39,
   "metadata": {},
   "outputs": [],
   "source": [
    "container_element = driver.find_elements(By.XPATH, value=\"//*[@ng-repeat='item in $p.objThanhPhanHoSoKemTheos']\")"
   ]
  },
  {
   "cell_type": "code",
   "execution_count": 40,
   "metadata": {},
   "outputs": [
    {
     "ename": "IndexError",
     "evalue": "list index out of range",
     "output_type": "error",
     "traceback": [
      "\u001b[1;31m---------------------------------------------------------------------------\u001b[0m",
      "\u001b[1;31mIndexError\u001b[0m                                Traceback (most recent call last)",
      "Cell \u001b[1;32mIn[40], line 1\u001b[0m\n\u001b[1;32m----> 1\u001b[0m \u001b[43mcontainer_element\u001b[49m\u001b[43m[\u001b[49m\u001b[38;5;241;43m2\u001b[39;49m\u001b[43m]\u001b[49m\n",
      "\u001b[1;31mIndexError\u001b[0m: list index out of range"
     ]
    }
   ],
   "source": [
    "container_element[2]"
   ]
  },
  {
   "cell_type": "code",
   "execution_count": null,
   "metadata": {},
   "outputs": [],
   "source": [
    "GCN = container_element[2].find_element(By.CLASS_NAME, value=\"text-wrap.ng-binding\").text\n",
    "if \t\"Giấy chứng nhận\" in GCN:\n",
    "    fi = container_element[2].find_element(By.TAG_NAME, value=\"a\")\n",
    "    fi.click()"
   ]
  },
  {
   "cell_type": "code",
   "execution_count": null,
   "metadata": {},
   "outputs": [],
   "source": [
    "driver.switch_to.window(driver.window_handles[1])\n",
    "save = wait_element(driver=driver,timeout=20,key=\"body\",by=\"tag\")\n",
    "save.send_keys(Keys.CONTROL + 's')"
   ]
  },
  {
   "cell_type": "code",
   "execution_count": null,
   "metadata": {},
   "outputs": [],
   "source": [
    "driver.execute_script(\"window.close();\")\n",
    "driver.switch_to.window(driver.window_handles[0])"
   ]
  },
  {
   "cell_type": "code",
   "execution_count": null,
   "metadata": {},
   "outputs": [],
   "source": [
    "container_element = driver.find_elements(By.XPATH, value=\"//*[@ng-repeat='item in $p.objThanhPhanHoSoKemTheos']\")\n",
    "fee = container_element[5].find_element(By.CLASS_NAME, value=\"text-wrap.ng-binding\").text\n",
    "if \t\"Tờ khai lệ phí trước bạ nhà, đất\" in fee:\n",
    "    fee = container_element[5].find_element(By.TAG_NAME, value=\"a\")\n",
    "    fee.click()"
   ]
  },
  {
   "cell_type": "code",
   "execution_count": null,
   "metadata": {},
   "outputs": [],
   "source": [
    "driver.switch_to.window(driver.window_handles[1])\n",
    "save = wait_element(driver=driver,timeout=20,key=\"body\",by=\"tag\")\n",
    "save.send_keys(Keys.CONTROL + 's')"
   ]
  },
  {
   "cell_type": "code",
   "execution_count": null,
   "metadata": {},
   "outputs": [],
   "source": [
    "driver.execute_script(\"window.close();\")\n",
    "driver.switch_to.window(driver.window_handles[0])"
   ]
  },
  {
   "cell_type": "code",
   "execution_count": null,
   "metadata": {},
   "outputs": [],
   "source": [
    "processing = driver.find_element(By.XPATH, value=\"//*[@ng-click='$p.quaTrinhXuLyInit()']\")\n",
    "processing.click()"
   ]
  },
  {
   "cell_type": "code",
   "execution_count": null,
   "metadata": {},
   "outputs": [
    {
     "data": {
      "text/plain": [
       "20"
      ]
     },
     "execution_count": 234,
     "metadata": {},
     "output_type": "execute_result"
    }
   ],
   "source": [
    "rows = driver.find_elements(By.XPATH, value=\"//*[@ng-repeat-start='item in $data.items']\")\n",
    "len(rows)"
   ]
  },
  {
   "cell_type": "code",
   "execution_count": null,
   "metadata": {},
   "outputs": [],
   "source": [
    "row = rows[10]"
   ]
  },
  {
   "cell_type": "code",
   "execution_count": null,
   "metadata": {},
   "outputs": [
    {
     "data": {
      "text/plain": [
       "'Chi Cục Thuế huyện Bến Lức'"
      ]
     },
     "execution_count": 240,
     "metadata": {},
     "output_type": "execute_result"
    }
   ],
   "source": [
    "txt = row.find_elements(By.TAG_NAME, value=\"td\")[2].text\n",
    "txt"
   ]
  },
  {
   "cell_type": "code",
   "execution_count": null,
   "metadata": {},
   "outputs": [
    {
     "name": "stdout",
     "output_type": "stream",
     "text": [
      "[<selenium.webdriver.remote.webelement.WebElement (session=\"77b3795551045aed6caae3e8dbc99cba\", element=\"f.BEAF48BD7F4368A91DF3B7E9E1C4758E.d.7988FE356B43CF80F08D65148B7A4DFC.e.485\")>, <selenium.webdriver.remote.webelement.WebElement (session=\"77b3795551045aed6caae3e8dbc99cba\", element=\"f.BEAF48BD7F4368A91DF3B7E9E1C4758E.d.7988FE356B43CF80F08D65148B7A4DFC.e.486\")>, <selenium.webdriver.remote.webelement.WebElement (session=\"77b3795551045aed6caae3e8dbc99cba\", element=\"f.BEAF48BD7F4368A91DF3B7E9E1C4758E.d.7988FE356B43CF80F08D65148B7A4DFC.e.325\")>, <selenium.webdriver.remote.webelement.WebElement (session=\"77b3795551045aed6caae3e8dbc99cba\", element=\"f.BEAF48BD7F4368A91DF3B7E9E1C4758E.d.7988FE356B43CF80F08D65148B7A4DFC.e.487\")>, <selenium.webdriver.remote.webelement.WebElement (session=\"77b3795551045aed6caae3e8dbc99cba\", element=\"f.BEAF48BD7F4368A91DF3B7E9E1C4758E.d.7988FE356B43CF80F08D65148B7A4DFC.e.488\")>, <selenium.webdriver.remote.webelement.WebElement (session=\"77b3795551045aed6caae3e8dbc99cba\", element=\"f.BEAF48BD7F4368A91DF3B7E9E1C4758E.d.7988FE356B43CF80F08D65148B7A4DFC.e.489\")>, <selenium.webdriver.remote.webelement.WebElement (session=\"77b3795551045aed6caae3e8dbc99cba\", element=\"f.BEAF48BD7F4368A91DF3B7E9E1C4758E.d.7988FE356B43CF80F08D65148B7A4DFC.e.388\")>, <selenium.webdriver.remote.webelement.WebElement (session=\"77b3795551045aed6caae3e8dbc99cba\", element=\"f.BEAF48BD7F4368A91DF3B7E9E1C4758E.d.7988FE356B43CF80F08D65148B7A4DFC.e.490\")>, <selenium.webdriver.remote.webelement.WebElement (session=\"77b3795551045aed6caae3e8dbc99cba\", element=\"f.BEAF48BD7F4368A91DF3B7E9E1C4758E.d.7988FE356B43CF80F08D65148B7A4DFC.e.491\")>, <selenium.webdriver.remote.webelement.WebElement (session=\"77b3795551045aed6caae3e8dbc99cba\", element=\"f.BEAF48BD7F4368A91DF3B7E9E1C4758E.d.7988FE356B43CF80F08D65148B7A4DFC.e.492\")>, <selenium.webdriver.remote.webelement.WebElement (session=\"77b3795551045aed6caae3e8dbc99cba\", element=\"f.BEAF48BD7F4368A91DF3B7E9E1C4758E.d.7988FE356B43CF80F08D65148B7A4DFC.e.493\")>, <selenium.webdriver.remote.webelement.WebElement (session=\"77b3795551045aed6caae3e8dbc99cba\", element=\"f.BEAF48BD7F4368A91DF3B7E9E1C4758E.d.7988FE356B43CF80F08D65148B7A4DFC.e.494\")>, <selenium.webdriver.remote.webelement.WebElement (session=\"77b3795551045aed6caae3e8dbc99cba\", element=\"f.BEAF48BD7F4368A91DF3B7E9E1C4758E.d.7988FE356B43CF80F08D65148B7A4DFC.e.495\")>, <selenium.webdriver.remote.webelement.WebElement (session=\"77b3795551045aed6caae3e8dbc99cba\", element=\"f.BEAF48BD7F4368A91DF3B7E9E1C4758E.d.7988FE356B43CF80F08D65148B7A4DFC.e.496\")>, <selenium.webdriver.remote.webelement.WebElement (session=\"77b3795551045aed6caae3e8dbc99cba\", element=\"f.BEAF48BD7F4368A91DF3B7E9E1C4758E.d.7988FE356B43CF80F08D65148B7A4DFC.e.497\")>, <selenium.webdriver.remote.webelement.WebElement (session=\"77b3795551045aed6caae3e8dbc99cba\", element=\"f.BEAF48BD7F4368A91DF3B7E9E1C4758E.d.7988FE356B43CF80F08D65148B7A4DFC.e.498\")>, <selenium.webdriver.remote.webelement.WebElement (session=\"77b3795551045aed6caae3e8dbc99cba\", element=\"f.BEAF48BD7F4368A91DF3B7E9E1C4758E.d.7988FE356B43CF80F08D65148B7A4DFC.e.499\")>, <selenium.webdriver.remote.webelement.WebElement (session=\"77b3795551045aed6caae3e8dbc99cba\", element=\"f.BEAF48BD7F4368A91DF3B7E9E1C4758E.d.7988FE356B43CF80F08D65148B7A4DFC.e.500\")>, <selenium.webdriver.remote.webelement.WebElement (session=\"77b3795551045aed6caae3e8dbc99cba\", element=\"f.BEAF48BD7F4368A91DF3B7E9E1C4758E.d.7988FE356B43CF80F08D65148B7A4DFC.e.501\")>, <selenium.webdriver.remote.webelement.WebElement (session=\"77b3795551045aed6caae3e8dbc99cba\", element=\"f.BEAF48BD7F4368A91DF3B7E9E1C4758E.d.7988FE356B43CF80F08D65148B7A4DFC.e.502\")>, <selenium.webdriver.remote.webelement.WebElement (session=\"77b3795551045aed6caae3e8dbc99cba\", element=\"f.BEAF48BD7F4368A91DF3B7E9E1C4758E.d.7988FE356B43CF80F08D65148B7A4DFC.e.503\")>, <selenium.webdriver.remote.webelement.WebElement (session=\"77b3795551045aed6caae3e8dbc99cba\", element=\"f.BEAF48BD7F4368A91DF3B7E9E1C4758E.d.7988FE356B43CF80F08D65148B7A4DFC.e.504\")>, <selenium.webdriver.remote.webelement.WebElement (session=\"77b3795551045aed6caae3e8dbc99cba\", element=\"f.BEAF48BD7F4368A91DF3B7E9E1C4758E.d.7988FE356B43CF80F08D65148B7A4DFC.e.505\")>, <selenium.webdriver.remote.webelement.WebElement (session=\"77b3795551045aed6caae3e8dbc99cba\", element=\"f.BEAF48BD7F4368A91DF3B7E9E1C4758E.d.7988FE356B43CF80F08D65148B7A4DFC.e.506\")>]\n"
     ]
    }
   ],
   "source": [
    "if \"Bến Lức\" in txt:\n",
    "    files = row.find_elements(By.CLASS_NAME, value=\"m-n.pointer.large.red.file.outline.pdf.icon\")\n",
    "    files[0].click()\n",
    "    for fi in files:\n",
    "        fi.click()\n",
    "        time.sleep(3)\n",
    "        driver.switch_to.window(driver.window_handles[1])\n",
    "        time.sleep(3)\n",
    "        save = wait_element(driver=driver,timeout=20,key=\"body\",by=\"tag\")\n",
    "        save.send_keys(Keys.CONTROL + 's')\n",
    "        time.sleep(5)\n",
    "        driver.execute_script(\"window.close();\")\n",
    "        driver.switch_to.window(driver.window_handles[0])"
   ]
  }
 ],
 "metadata": {
  "kernelspec": {
   "display_name": ".venv",
   "language": "python",
   "name": "python3"
  },
  "language_info": {
   "codemirror_mode": {
    "name": "ipython",
    "version": 3
   },
   "file_extension": ".py",
   "mimetype": "text/x-python",
   "name": "python",
   "nbconvert_exporter": "python",
   "pygments_lexer": "ipython3",
   "version": "3.11.0"
  }
 },
 "nbformat": 4,
 "nbformat_minor": 2
}
